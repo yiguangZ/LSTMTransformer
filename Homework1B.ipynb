{
  "cells": [
    {
      "cell_type": "markdown",
      "metadata": {
        "id": "FIKNM72Yc9v_"
      },
      "source": [
        "# ECE 157B/272B Homework 1B Code\n",
        "Created by: Min Jian Yang and Matthew Dupree\\\n",
        "Parts of the code are from:\n",
        "- The PyTorch tutorial: https://pytorch.org/tutorials/beginner/transformer_tutorial.html#load-and-batch-data\n",
        "- The KDnuggets tutorial: https://www.kdnuggets.com/2020/07/pytorch-lstm-text-generation-tutorial.html"
      ]
    },
    {
      "cell_type": "markdown",
      "metadata": {
        "id": "HYz2vbAmc9v_"
      },
      "source": [
        "## Select a GPU Runtime\n",
        "* If you would like to complete this assignment on your own computer, make sure that your computer has a GPU compatible with PyTorch hardware acceleration. Without a GPU, training the models will take a very long time.\n",
        "* If you are using Google Colab, you will want to limit the amount of time you spend using a GPU runtime, to prevent running up against usage limits. If you are planning to train models this session, (i.e. beyond just vocabulary exploration,) you will need to select a GPU runtime by going to `Runtime` > `Change runtime type` > `Hardware accelerator` > `GPU`.\n",
        "    * For each model you intend to train and evaluate, you will need 10-15 minutes of GPU runtime, so plan in advance.\n",
        "    * If your computer goes to sleep or loses its internet connection for more than a minute or two, your Google Colab runtime will be recycled, erasing your model and training progress.\n"
      ]
    },
    {
      "cell_type": "markdown",
      "metadata": {
        "id": "spCFbu-Lc9v_"
      },
      "source": [
        "## Install Libraries\n",
        "The below lab will check the versions of the PyTorch and Pandas libraries you have installed. We're expecting to see these versions of these packages, but later versions may also work fine."
      ]
    },
    {
      "cell_type": "code",
      "execution_count": 1,
      "metadata": {
        "colab": {
          "base_uri": "https://localhost:8080/"
        },
        "id": "69ykK8Hec9wA",
        "outputId": "1383b478-885d-47ac-fa1c-8f9041bcf388"
      },
      "outputs": [
        {
          "output_type": "stream",
          "name": "stdout",
          "text": [
            "Requirement already satisfied: torch>=2.1.0 in /usr/local/lib/python3.11/dist-packages (2.5.1+cu121)\n",
            "Requirement already satisfied: tokenizers>=0.15.0 in /usr/local/lib/python3.11/dist-packages (0.21.0)\n",
            "Requirement already satisfied: matplotlib in /usr/local/lib/python3.11/dist-packages (3.10.0)\n",
            "Requirement already satisfied: filelock in /usr/local/lib/python3.11/dist-packages (from torch>=2.1.0) (3.16.1)\n",
            "Requirement already satisfied: typing-extensions>=4.8.0 in /usr/local/lib/python3.11/dist-packages (from torch>=2.1.0) (4.12.2)\n",
            "Requirement already satisfied: networkx in /usr/local/lib/python3.11/dist-packages (from torch>=2.1.0) (3.4.2)\n",
            "Requirement already satisfied: jinja2 in /usr/local/lib/python3.11/dist-packages (from torch>=2.1.0) (3.1.5)\n",
            "Requirement already satisfied: fsspec in /usr/local/lib/python3.11/dist-packages (from torch>=2.1.0) (2024.10.0)\n",
            "Requirement already satisfied: nvidia-cuda-nvrtc-cu12==12.1.105 in /usr/local/lib/python3.11/dist-packages (from torch>=2.1.0) (12.1.105)\n",
            "Requirement already satisfied: nvidia-cuda-runtime-cu12==12.1.105 in /usr/local/lib/python3.11/dist-packages (from torch>=2.1.0) (12.1.105)\n",
            "Requirement already satisfied: nvidia-cuda-cupti-cu12==12.1.105 in /usr/local/lib/python3.11/dist-packages (from torch>=2.1.0) (12.1.105)\n",
            "Requirement already satisfied: nvidia-cudnn-cu12==9.1.0.70 in /usr/local/lib/python3.11/dist-packages (from torch>=2.1.0) (9.1.0.70)\n",
            "Requirement already satisfied: nvidia-cublas-cu12==12.1.3.1 in /usr/local/lib/python3.11/dist-packages (from torch>=2.1.0) (12.1.3.1)\n",
            "Requirement already satisfied: nvidia-cufft-cu12==11.0.2.54 in /usr/local/lib/python3.11/dist-packages (from torch>=2.1.0) (11.0.2.54)\n",
            "Requirement already satisfied: nvidia-curand-cu12==10.3.2.106 in /usr/local/lib/python3.11/dist-packages (from torch>=2.1.0) (10.3.2.106)\n",
            "Requirement already satisfied: nvidia-cusolver-cu12==11.4.5.107 in /usr/local/lib/python3.11/dist-packages (from torch>=2.1.0) (11.4.5.107)\n",
            "Requirement already satisfied: nvidia-cusparse-cu12==12.1.0.106 in /usr/local/lib/python3.11/dist-packages (from torch>=2.1.0) (12.1.0.106)\n",
            "Requirement already satisfied: nvidia-nccl-cu12==2.21.5 in /usr/local/lib/python3.11/dist-packages (from torch>=2.1.0) (2.21.5)\n",
            "Requirement already satisfied: nvidia-nvtx-cu12==12.1.105 in /usr/local/lib/python3.11/dist-packages (from torch>=2.1.0) (12.1.105)\n",
            "Requirement already satisfied: triton==3.1.0 in /usr/local/lib/python3.11/dist-packages (from torch>=2.1.0) (3.1.0)\n",
            "Requirement already satisfied: sympy==1.13.1 in /usr/local/lib/python3.11/dist-packages (from torch>=2.1.0) (1.13.1)\n",
            "Requirement already satisfied: nvidia-nvjitlink-cu12 in /usr/local/lib/python3.11/dist-packages (from nvidia-cusolver-cu12==11.4.5.107->torch>=2.1.0) (12.6.85)\n",
            "Requirement already satisfied: mpmath<1.4,>=1.1.0 in /usr/local/lib/python3.11/dist-packages (from sympy==1.13.1->torch>=2.1.0) (1.3.0)\n",
            "Requirement already satisfied: huggingface-hub<1.0,>=0.16.4 in /usr/local/lib/python3.11/dist-packages (from tokenizers>=0.15.0) (0.27.1)\n",
            "Requirement already satisfied: contourpy>=1.0.1 in /usr/local/lib/python3.11/dist-packages (from matplotlib) (1.3.1)\n",
            "Requirement already satisfied: cycler>=0.10 in /usr/local/lib/python3.11/dist-packages (from matplotlib) (0.12.1)\n",
            "Requirement already satisfied: fonttools>=4.22.0 in /usr/local/lib/python3.11/dist-packages (from matplotlib) (4.55.3)\n",
            "Requirement already satisfied: kiwisolver>=1.3.1 in /usr/local/lib/python3.11/dist-packages (from matplotlib) (1.4.8)\n",
            "Requirement already satisfied: numpy>=1.23 in /usr/local/lib/python3.11/dist-packages (from matplotlib) (1.26.4)\n",
            "Requirement already satisfied: packaging>=20.0 in /usr/local/lib/python3.11/dist-packages (from matplotlib) (24.2)\n",
            "Requirement already satisfied: pillow>=8 in /usr/local/lib/python3.11/dist-packages (from matplotlib) (11.1.0)\n",
            "Requirement already satisfied: pyparsing>=2.3.1 in /usr/local/lib/python3.11/dist-packages (from matplotlib) (3.2.1)\n",
            "Requirement already satisfied: python-dateutil>=2.7 in /usr/local/lib/python3.11/dist-packages (from matplotlib) (2.8.2)\n",
            "Requirement already satisfied: pyyaml>=5.1 in /usr/local/lib/python3.11/dist-packages (from huggingface-hub<1.0,>=0.16.4->tokenizers>=0.15.0) (6.0.2)\n",
            "Requirement already satisfied: requests in /usr/local/lib/python3.11/dist-packages (from huggingface-hub<1.0,>=0.16.4->tokenizers>=0.15.0) (2.32.3)\n",
            "Requirement already satisfied: tqdm>=4.42.1 in /usr/local/lib/python3.11/dist-packages (from huggingface-hub<1.0,>=0.16.4->tokenizers>=0.15.0) (4.67.1)\n",
            "Requirement already satisfied: six>=1.5 in /usr/local/lib/python3.11/dist-packages (from python-dateutil>=2.7->matplotlib) (1.17.0)\n",
            "Requirement already satisfied: MarkupSafe>=2.0 in /usr/local/lib/python3.11/dist-packages (from jinja2->torch>=2.1.0) (3.0.2)\n",
            "Requirement already satisfied: charset-normalizer<4,>=2 in /usr/local/lib/python3.11/dist-packages (from requests->huggingface-hub<1.0,>=0.16.4->tokenizers>=0.15.0) (3.4.1)\n",
            "Requirement already satisfied: idna<4,>=2.5 in /usr/local/lib/python3.11/dist-packages (from requests->huggingface-hub<1.0,>=0.16.4->tokenizers>=0.15.0) (3.10)\n",
            "Requirement already satisfied: urllib3<3,>=1.21.1 in /usr/local/lib/python3.11/dist-packages (from requests->huggingface-hub<1.0,>=0.16.4->tokenizers>=0.15.0) (2.3.0)\n",
            "Requirement already satisfied: certifi>=2017.4.17 in /usr/local/lib/python3.11/dist-packages (from requests->huggingface-hub<1.0,>=0.16.4->tokenizers>=0.15.0) (2024.12.14)\n"
          ]
        }
      ],
      "source": [
        "%pip install \"torch>=2.1.0\" \"tokenizers>=0.15.0\" \"matplotlib\""
      ]
    },
    {
      "cell_type": "markdown",
      "metadata": {
        "id": "thB_s7wVc9wA"
      },
      "source": [
        "You may be asked to restart the kernel after running the above cell. If so, please do so and then continue running the cells below. (This means specifically to \"Restart\" the _kernel_, not to get a new runtime, as a new runtime will not have the package versions installed.)"
      ]
    },
    {
      "cell_type": "markdown",
      "metadata": {
        "id": "dhBPsYP3c9wA"
      },
      "source": [
        "## Import Libraries"
      ]
    },
    {
      "cell_type": "code",
      "execution_count": 2,
      "metadata": {
        "id": "ubYCQX5Cc9wA"
      },
      "outputs": [],
      "source": [
        "from typing import Dict, List, Callable, Tuple, NamedTuple, Union, Optional\n",
        "from collections import Counter, defaultdict\n",
        "from pathlib import Path\n",
        "\n",
        "import math\n",
        "import string\n",
        "import statistics\n",
        "\n",
        "import matplotlib.pyplot as plt\n",
        "\n",
        "import torch\n",
        "from torch import Tensor, jit\n",
        "\n",
        "import torch.nn\n",
        "from torch.nn import Module\n",
        "from torch.nn import RNN, LSTM, GRU, Embedding, Linear"
      ]
    },
    {
      "cell_type": "markdown",
      "metadata": {
        "id": "TCyv08Kec9wA"
      },
      "source": [
        "## Unpack Data\n",
        "\n",
        "If you are using Google Colab, you will need to upload the `data.zip` file from the assignment folder to your Colab runtime using the file browser on the left side of the screen. Also upload the `tokenizer_toy.py` file."
      ]
    },
    {
      "cell_type": "code",
      "execution_count": 3,
      "metadata": {
        "colab": {
          "base_uri": "https://localhost:8080/"
        },
        "id": "KFamrRQQc9wA",
        "outputId": "3c0a1c92-2810-4362-fa6e-b3a3259d2c73"
      },
      "outputs": [
        {
          "output_type": "stream",
          "name": "stdout",
          "text": [
            "Data directory not found, creating it...\n",
            "Found {DATA_ZIP}, extracting it to {DATA_PATH}...\n",
            "Done!\n",
            "Data directory is nested in an extra directory, unnesting it...\n",
            "Data directory and tokenizer_toy.py ready.\n"
          ]
        }
      ],
      "source": [
        "def please_upload(filename: str) -> Path:\n",
        "    path = Path(filename)\n",
        "    if not path.exists():\n",
        "        raise FileNotFoundError(\n",
        "            f\"Please upload the {path.name} file from the assignment to: {Path.cwd()/path}\"\n",
        "        )\n",
        "    return path\n",
        "\n",
        "\n",
        "DATA_PATH = Path(\"data\")\n",
        "if DATA_PATH.exists() and not DATA_PATH.is_dir():\n",
        "    raise NotADirectoryError(\n",
        "        f\"Please remove the file {DATA_PATH} from the directory and try again.\"\n",
        "    )\n",
        "if not DATA_PATH.exists():\n",
        "    print(\"Data directory not found, creating it...\")\n",
        "\n",
        "    DATA_ZIP = please_upload(\"data.zip\")\n",
        "\n",
        "    print(\"Found {DATA_ZIP}, extracting it to {DATA_PATH}...\")\n",
        "\n",
        "    import zipfile\n",
        "\n",
        "    with zipfile.ZipFile(DATA_ZIP, \"r\") as zip_ref:\n",
        "        zip_ref.extractall(DATA_PATH)\n",
        "    print(\"Done!\")\n",
        "\n",
        "# In case the data gets nested in an extra directory\n",
        "if (DATA_PATH/\"data\").is_dir():\n",
        "    print(\"Data directory is nested in an extra directory, unnesting it...\")\n",
        "    data2 = DATA_PATH.parent/\"data.tmp\"\n",
        "    (DATA_PATH/\"data\").rename(data2)\n",
        "    DATA_PATH.rmdir()\n",
        "    data2.rename(DATA_PATH)\n",
        "assert DATA_PATH.is_dir() and any(f.is_file() for f in DATA_PATH.iterdir()), \"No data found in {DATA_PATH}! Something went wrong. Try deleting the \\\"data\\\" directory and running this cell again.\"\n",
        "\n",
        "\n",
        "TOKENIZER_TOY_PATH = please_upload(\"tokenizer_toy.py\")\n",
        "\n",
        "print(\"Data directory and tokenizer_toy.py ready.\")"
      ]
    },
    {
      "cell_type": "markdown",
      "metadata": {
        "id": "kAbWwrIDc9wA"
      },
      "source": [
        "### Import the tokenizer\n",
        "This assignment, we've split the tokenizer into a separate file, as we'd like to keep it constant across all models. This will allow us to compare the models' vocabularies and predictions more easily."
      ]
    },
    {
      "cell_type": "code",
      "execution_count": 4,
      "metadata": {
        "id": "kSlmFMvic9wB"
      },
      "outputs": [],
      "source": [
        "import tokenizer_toy"
      ]
    },
    {
      "cell_type": "markdown",
      "metadata": {
        "id": "r5qqFmkEc9wB"
      },
      "source": [
        "### Play with the tokenizer\n",
        "\n",
        "The below two cells will load and train a tokenizer on the training data, allowing you to play with the tokenizer's behavior. Uncomment the cells to make use of them. (They are commented by default to allow you to run all cells without interruption.)\n",
        "\n",
        "If you are using VSCode, the interactive behavior of the tokenizer may not work. If so, interrupt the cell and run the command after the `!` in a terminal set to the same environment and directory as this notebook. (You can use VSCode's built-in terminal for this.)"
      ]
    },
    {
      "cell_type": "code",
      "execution_count": 4,
      "metadata": {
        "id": "D4GVCb7UfpLF"
      },
      "outputs": [],
      "source": []
    },
    {
      "cell_type": "code",
      "execution_count": 5,
      "metadata": {
        "id": "AdOW7Uvac9wB"
      },
      "outputs": [],
      "source": [
        " #!python tokenizer_toy.py data/daily_dialog_train_text.txt"
      ]
    },
    {
      "cell_type": "code",
      "execution_count": 6,
      "metadata": {
        "id": "IaiKKXRrc9wB"
      },
      "outputs": [],
      "source": [
        "#!python tokenizer_toy.py data/shakespeare_train.txt"
      ]
    },
    {
      "cell_type": "markdown",
      "metadata": {
        "id": "M9iusXigc9wB"
      },
      "source": [
        "## Use GPU if available\n",
        "The below line checks if a CUDA environment (typically a GPU accelerator) is available. If so, we'll use it, otherwise we'll use the CPU."
      ]
    },
    {
      "cell_type": "code",
      "execution_count": 7,
      "metadata": {
        "colab": {
          "base_uri": "https://localhost:8080/"
        },
        "id": "khuKm5WOc9wB",
        "outputId": "90a24cc4-c8b5-4d45-a3ca-16dbba64e0eb"
      },
      "outputs": [
        {
          "output_type": "stream",
          "name": "stdout",
          "text": [
            "Using device: cuda:0\n"
          ]
        }
      ],
      "source": [
        "DEVICE = 'cuda:0' if torch.cuda.is_available() else 'cpu'\n",
        "print(f'Using device: {DEVICE}')"
      ]
    },
    {
      "cell_type": "markdown",
      "metadata": {
        "id": "pw1uhP91c9wB"
      },
      "source": [
        "## Prepare the dataset for training"
      ]
    },
    {
      "cell_type": "markdown",
      "metadata": {
        "id": "iTYL8c_lc9wB"
      },
      "source": [
        "### Prepare a tokenization function\n",
        "\n",
        "This function will take a string and return a PyTorch tensor of token IDs."
      ]
    },
    {
      "cell_type": "code",
      "execution_count": 8,
      "metadata": {
        "id": "w3ctO4iBc9wB"
      },
      "outputs": [],
      "source": [
        "def tokenize_dataset(\n",
        "    dataset: str,\n",
        "    tokenizer: tokenizer_toy.SimpleWordPieceTokenizer\n",
        ") -> torch.Tensor:\n",
        "    return torch.tensor(\n",
        "        tokenizer.encode(dataset).ids,\n",
        "        dtype=torch.long,\n",
        "    )"
      ]
    },
    {
      "cell_type": "markdown",
      "metadata": {
        "id": "ZHaIzaKdc9wB"
      },
      "source": [
        "### Load the datasets\n",
        "\n",
        "As both datasets have been separated into train and validation sets for you, we can greatly simplify the dataset loading process from the previous assignment."
      ]
    },
    {
      "cell_type": "code",
      "execution_count": 9,
      "metadata": {
        "colab": {
          "base_uri": "https://localhost:8080/"
        },
        "id": "lj9ENKSoc9wB",
        "outputId": "fdb46071-2def-4d74-9700-e48386fdf8ab"
      },
      "outputs": [
        {
          "output_type": "stream",
          "name": "stdout",
          "text": [
            "Loaded 5251671 chars from data/shakespeare_train.txt\n",
            "Loaded 288917 chars from data/shakespeare_val.txt\n",
            "Loaded 6016419 chars from data/daily_dialog_train_text.txt\n",
            "Loaded 556246 chars from data/daily_dialog_val_text.txt\n"
          ]
        }
      ],
      "source": [
        "def load_dataset(\n",
        "    filename: Union[str, Path],\n",
        ") -> str:\n",
        "    with open(filename, \"r\", encoding=\"utf-8\") as f:\n",
        "        result = f.read()\n",
        "    print(f\"Loaded {len(result)} chars from {filename}\")\n",
        "    return result\n",
        "\n",
        "shakespeare_train_text = load_dataset(\"data/shakespeare_train.txt\")\n",
        "shakespeare_val_text = load_dataset(\"data/shakespeare_val.txt\")\n",
        "daily_dialog_train_text = load_dataset(\"data/daily_dialog_train_text.txt\")\n",
        "daily_dialog_val_text = load_dataset(\"data/daily_dialog_val_text.txt\")"
      ]
    },
    {
      "cell_type": "markdown",
      "metadata": {
        "id": "Y9-iIYt9c9wB"
      },
      "source": [
        "### Build vocabularies"
      ]
    },
    {
      "cell_type": "code",
      "execution_count": 10,
      "metadata": {
        "colab": {
          "base_uri": "https://localhost:8080/"
        },
        "id": "-AzxhjNqc9wB",
        "outputId": "e812c7b5-b352-4dff-cbcd-d2854535fce8"
      },
      "outputs": [
        {
          "output_type": "stream",
          "name": "stdout",
          "text": [
            "Shakespeare tokenizer vocab size: 19864\n",
            "Daily Dialog tokenizer vocab size: 17823\n",
            "Combined tokenizer vocab size: 20001\n"
          ]
        }
      ],
      "source": [
        "shakespeare_only_tokenizer = tokenizer_toy.SimpleWordPieceTokenizer(\n",
        "    training_files=[\"data/shakespeare_train.txt\"]\n",
        ")\n",
        "print(\"Shakespeare tokenizer vocab size:\", shakespeare_only_tokenizer.get_vocab_size())\n",
        "\n",
        "daily_dialog_only_tokenizer = tokenizer_toy.SimpleWordPieceTokenizer(\n",
        "    training_files=[\"data/daily_dialog_train_text.txt\"]\n",
        ")\n",
        "print(\"Daily Dialog tokenizer vocab size:\", daily_dialog_only_tokenizer.get_vocab_size())\n",
        "\n",
        "both_tokenizer = tokenizer_toy.SimpleWordPieceTokenizer(\n",
        "    training_files=[\"data/shakespeare_train.txt\", \"data/daily_dialog_train_text.txt\"]\n",
        ")\n",
        "print(\"Combined tokenizer vocab size:\", both_tokenizer.get_vocab_size())"
      ]
    },
    {
      "cell_type": "markdown",
      "metadata": {
        "id": "TTrPY83xc9wB"
      },
      "source": [
        "### Tokenize the datasets\n",
        "\n",
        "Because we have three different tokenizers and two different datasets, we'll need to tokenize each dataset with each tokenizer. We'll do this in a nested loop, so that we can keep track of which tokenizer was used for each dataset."
      ]
    },
    {
      "cell_type": "code",
      "execution_count": 11,
      "metadata": {
        "colab": {
          "base_uri": "https://localhost:8080/"
        },
        "id": "ajW8fvhwc9wB",
        "outputId": "40ae0abb-1c86-4b16-9c3a-257b8e5a338d"
      },
      "outputs": [
        {
          "output_type": "stream",
          "name": "stdout",
          "text": [
            "Tokenizing shakespeare_train_text with shakespeare_tok...(1338874 tokens) Done!\n",
            "Tokenizing daily_dialog_train_text with shakespeare_tok...(1495274 tokens) Done!\n",
            "Tokenizing shakespeare_train_text with daily_dialog_tok...(1625161 tokens) Done!\n",
            "Tokenizing daily_dialog_train_text with daily_dialog_tok...(1367246 tokens) Done!\n",
            "Tokenizing shakespeare_train_text with both_tok...(1349630 tokens) Done!\n",
            "Tokenizing daily_dialog_train_text with both_tok...(1375910 tokens) Done!\n"
          ]
        }
      ],
      "source": [
        "tokenizers = {\n",
        "    'shakespeare_tok': shakespeare_only_tokenizer,\n",
        "    'daily_dialog_tok': daily_dialog_only_tokenizer,\n",
        "    'both_tok': both_tokenizer\n",
        "}\n",
        "datasets = {\n",
        "    'shakespeare_train_text': shakespeare_train_text,\n",
        "    'daily_dialog_train_text': daily_dialog_train_text,\n",
        "}\n",
        "tokenized_datasets = {}\n",
        "for tok_name, tok in tokenizers.items():\n",
        "    for dataset_name, dataset in datasets.items():\n",
        "        print(f\"Tokenizing {dataset_name} with {tok_name}...\", end=\"\")\n",
        "        result = tokenize_dataset(dataset, tok)\n",
        "        tokenized_datasets[f\"{dataset_name}_{tok_name}\"] = result\n",
        "        print(f\"({len(result)} tokens) Done!\")"
      ]
    },
    {
      "cell_type": "markdown",
      "metadata": {
        "id": "BeunN_Ccc9wB"
      },
      "source": [
        "### Analyze Tokenizer Differences\n",
        "\n",
        "The tokenizers above differ only by their vocabularies. Below, we'll compute a few metrics to compare the vocabularies' contents.\n",
        "\n",
        "Individual metrics:\n",
        "\n",
        "* Vocabulary Size: How many tokens are in each tokenizer's vocabulary?\n",
        "* Token Types: How many tokens are of each of the following types:\n",
        "    * Alphabetic: Contains only letters\n",
        "    * Numeric: Contains only numbers\n",
        "    * Alphanumeric: Contains both letters and numbers\n",
        "    * Whitespace: Contains only whitespace\n",
        "    * Punctuation: Contains only punctuation\n",
        "    * Subword: Begins with `##`\n",
        "* Token Length Curves: We'll plot the length of each token in the two tokenizers' vocabularies. This will allow us to see how the tokenizers' vocabularies differ in terms of the tokens' lengths -- how many characters each token contains. (Are we learning large words or lots of small, strange combinations of characters?)\n",
        "\n",
        "Dataset-specific metrics:\n",
        "* Encoded Token Counts: Count how many tokens total a tokenizer needs to encode each dataset. This will allow us to see how the tokenizers' vocabularies differ in terms of compressing the data.\n",
        "* Token Frequency Curves: We'll plot the frequency of each token in the two tokenizers' vocabularies. This will allow us to see how the tokenizers' vocabularies differ in terms of the tokens' relative frequencies -- how often each token appears in the datasets they were trained on.\n",
        "\n",
        "Comparison metrics:\n",
        "\n",
        "* Intersection: How many tokens do the two tokenizers have in common?\n",
        "* Union: How many tokens do the two tokenizers have in total between the two?\n",
        "* Jaccard Index: The Jaccard index is a measure of similarity between two sets. It is defined as the size of the intersection divided by the size of the union of the two sets. In this case, we'll use it to measure how similar the two tokenizers' vocabularies are -- how many tokens they have in common out of the total number of tokens they have."
      ]
    },
    {
      "cell_type": "code",
      "execution_count": 12,
      "metadata": {
        "id": "ub46Tla5c9wC",
        "colab": {
          "base_uri": "https://localhost:8080/",
          "height": 1000
        },
        "outputId": "ae2fbf26-66cd-4108-a291-c8d524e94769"
      },
      "outputs": [
        {
          "output_type": "stream",
          "name": "stdout",
          "text": [
            "=== shakespeare_tok ===\n",
            "Vocab size: 19864\n",
            "Token Type Counts:\n",
            "\tAlphabetic:   16811\n",
            "\tNumeric:      10\n",
            "\tAlphanumeric: 16822\n",
            "\tWhitespace:   1\n",
            "\tPunctuation:  12\n",
            "\tSubword:      3001\n",
            "Token length distribution:\n",
            "\tMin: 1 (48 tokens)\n",
            "\tMax: 17 ['undistinguishable']\n",
            "\tMean: 6.381242448650825\n",
            "\tMedian: 6 (3908 tokens)\n",
            "\tHistogram:\n"
          ]
        },
        {
          "output_type": "display_data",
          "data": {
            "text/plain": [
              "<Figure size 640x480 with 1 Axes>"
            ],
            "image/png": "[encoded data removed]"
          },
          "metadata": {}
        },
        {
          "output_type": "stream",
          "name": "stdout",
          "text": [
            "=== daily_dialog_tok ===\n",
            "Vocab size: 17823\n",
            "Token Type Counts:\n",
            "\tAlphabetic:   14287\n",
            "\tNumeric:      322\n",
            "\tAlphanumeric: 14684\n",
            "\tWhitespace:   1\n",
            "\tPunctuation:  23\n",
            "\tSubword:      3093\n",
            "Token length distribution:\n",
            "\tMin: 1 (73 tokens)\n",
            "\tMax: 19 ['hydrochlorothiazide']\n",
            "\tMean: 6.35431745497391\n",
            "\tMedian: 6 (3130 tokens)\n",
            "\tHistogram:\n"
          ]
        },
        {
          "output_type": "display_data",
          "data": {
            "text/plain": [
              "<Figure size 640x480 with 1 Axes>"
            ],
            "image/png": "[encoded data removed]"
          },
          "metadata": {}
        },
        {
          "output_type": "stream",
          "name": "stdout",
          "text": [
            "=== both_tok ===\n",
            "Vocab size: 20001\n",
            "Token Type Counts:\n",
            "\tAlphabetic:   16539\n",
            "\tNumeric:      153\n",
            "\tAlphanumeric: 16724\n",
            "\tWhitespace:   1\n",
            "\tPunctuation:  25\n",
            "\tSubword:      3208\n",
            "Token length distribution:\n",
            "\tMin: 1 (75 tokens)\n",
            "\tMax: 16 ['enthusiastically', 'misunderstanding', 'responsibilities']\n",
            "\tMean: 6.234438278086095\n",
            "\tMedian: 6 (3842 tokens)\n",
            "\tHistogram:\n"
          ]
        },
        {
          "output_type": "display_data",
          "data": {
            "text/plain": [
              "<Figure size 640x480 with 1 Axes>"
            ],
            "image/png": "[encoded data removed]"
          },
          "metadata": {}
        }
      ],
      "source": [
        "def token_len_operation(\n",
        "    tokens: List[str],\n",
        "    token_lengths: List[int],\n",
        "    operation_name: str,\n",
        "    operation: Callable[[List[int]], int]\n",
        ") -> None:\n",
        "    target_token_length = operation(token_lengths)\n",
        "    target_length_tokens = [t for t in tokens if len(t) == target_token_length]\n",
        "    if len(target_length_tokens) < 5:\n",
        "        print(f\"\\t{operation_name}: {target_token_length} {target_length_tokens}\")\n",
        "    else:\n",
        "        print(f\"\\t{operation_name}: {target_token_length} ({len(target_length_tokens)} tokens)\")\n",
        "\n",
        "for tok_name, tok in tokenizers.items():\n",
        "    # Individual Metrics\n",
        "    print(f\"=== {tok_name} ===\")\n",
        "    vocab: Dict[str, int] = tok.get_vocab()\n",
        "    print(f\"Vocab size: {len(vocab)}\")\n",
        "    print(\"Token Type Counts:\")\n",
        "    print(\"\\tAlphabetic:  \", sum(t.isalpha() for t in vocab))\n",
        "    print(\"\\tNumeric:     \", sum(t.isnumeric() for t in vocab))\n",
        "    print(\"\\tAlphanumeric:\", sum(t.isalnum() for t in vocab))\n",
        "    print(\"\\tWhitespace:  \", sum(t.isspace() for t in vocab))\n",
        "    print(\"\\tPunctuation: \", sum(t in string.punctuation for t in vocab))\n",
        "    print(\"\\tSubword:     \", sum(t.startswith(\"##\") for t in vocab))\n",
        "\n",
        "    print(\"Token length distribution:\")\n",
        "    tokens = list(vocab.keys())\n",
        "    token_lengths = [len(t) for t in tokens]\n",
        "    token_len_operation(tokens, token_lengths, \"Min\", min)\n",
        "    token_len_operation(tokens, token_lengths, \"Max\", max)\n",
        "    print(\"\\tMean:\", statistics.mean(token_lengths))\n",
        "    token_len_operation(tokens, token_lengths, \"Median\", statistics.median_low)\n",
        "    print(\"\\tHistogram:\")\n",
        "    counts = Counter(token_lengths)\n",
        "    plt.figure()\n",
        "    plt.bar(counts.keys(), counts.values())\n",
        "    plt.title(f\"{tok_name} Token Length Distribution\")\n",
        "    plt.xlabel(\"Token Length\")\n",
        "    plt.ylabel(\"Token Count\")\n",
        "    plt.show()\n"
      ]
    },
    {
      "cell_type": "code",
      "execution_count": 13,
      "metadata": {
        "id": "J64UfnNwc9wC",
        "colab": {
          "base_uri": "https://localhost:8080/",
          "height": 1000
        },
        "outputId": "cbfe73a4-6434-4983-d105-14ffa02a1d6e"
      },
      "outputs": [
        {
          "output_type": "stream",
          "name": "stdout",
          "text": [
            "=== shakespeare_tok on shakespeare_train_text ===\n",
            "Dataset size: 1338874 tokens\n",
            "Token frequency distribution:\n",
            "\tMin: 0\n",
            "\tMax: 118449\n",
            "\tMean: 67.40203094482422\n",
            "\tMedian: 4.0\n",
            "\tHistogram:\n"
          ]
        },
        {
          "output_type": "display_data",
          "data": {
            "text/plain": [
              "<Figure size 640x480 with 1 Axes>"
            ],
            "image/png": "[encoded data removed]"
          },
          "metadata": {}
        },
        {
          "output_type": "stream",
          "name": "stdout",
          "text": [
            "=== shakespeare_tok on daily_dialog_train_text ===\n",
            "Dataset size: 1495274 tokens\n",
            "Token frequency distribution:\n",
            "\tMin: 0\n",
            "\tMax: 103347\n",
            "\tMean: 75.27557373046875\n",
            "\tMedian: 0.0\n",
            "\tHistogram:\n"
          ]
        },
        {
          "output_type": "display_data",
          "data": {
            "text/plain": [
              "<Figure size 640x480 with 1 Axes>"
            ],
            "image/png": "[encoded data removed]"
          },
          "metadata": {}
        },
        {
          "output_type": "stream",
          "name": "stdout",
          "text": [
            "=== daily_dialog_tok on shakespeare_train_text ===\n",
            "Dataset size: 1625161 tokens\n",
            "Token frequency distribution:\n",
            "\tMin: 0\n",
            "\tMax: 118527\n",
            "\tMean: 91.18335723876953\n",
            "\tMedian: 1.0\n",
            "\tHistogram:\n"
          ]
        },
        {
          "output_type": "display_data",
          "data": {
            "text/plain": [
              "<Figure size 640x480 with 1 Axes>"
            ],
            "image/png": "[encoded data removed]"
          },
          "metadata": {}
        },
        {
          "output_type": "stream",
          "name": "stdout",
          "text": [
            "=== daily_dialog_tok on daily_dialog_train_text ===\n",
            "Dataset size: 1367246 tokens\n",
            "Token frequency distribution:\n",
            "\tMin: 0\n",
            "\tMax: 101547\n",
            "\tMean: 76.71244812011719\n",
            "\tMedian: 3.0\n",
            "\tHistogram:\n"
          ]
        },
        {
          "output_type": "display_data",
          "data": {
            "text/plain": [
              "<Figure size 640x480 with 1 Axes>"
            ],
            "image/png": "[encoded data removed]"
          },
          "metadata": {}
        },
        {
          "output_type": "stream",
          "name": "stdout",
          "text": [
            "=== both_tok on shakespeare_train_text ===\n",
            "Dataset size: 1349630 tokens\n",
            "Token frequency distribution:\n",
            "\tMin: 0\n",
            "\tMax: 118449\n",
            "\tMean: 67.4781265258789\n",
            "\tMedian: 4.0\n",
            "\tHistogram:\n"
          ]
        },
        {
          "output_type": "display_data",
          "data": {
            "text/plain": [
              "<Figure size 640x480 with 1 Axes>"
            ],
            "image/png": "[encoded data removed]"
          },
          "metadata": {}
        },
        {
          "output_type": "stream",
          "name": "stdout",
          "text": [
            "=== both_tok on daily_dialog_train_text ===\n",
            "Dataset size: 1375910 tokens\n",
            "Token frequency distribution:\n",
            "\tMin: 0\n",
            "\tMax: 101547\n",
            "\tMean: 68.79206085205078\n",
            "\tMedian: 3.0\n",
            "\tHistogram:\n"
          ]
        },
        {
          "output_type": "display_data",
          "data": {
            "text/plain": [
              "<Figure size 640x480 with 1 Axes>"
            ],
            "image/png": "[encoded data removed]"
          },
          "metadata": {}
        }
      ],
      "source": [
        "# Dataset-specific metrics\n",
        "for tok_name in tokenizers:\n",
        "    for dataset_name in datasets:\n",
        "        print(f\"=== {tok_name} on {dataset_name} ===\")\n",
        "        result = tokenized_datasets[f\"{dataset_name}_{tok_name}\"]\n",
        "        print(f\"Dataset size: {len(result)} tokens\")\n",
        "        print(\"Token frequency distribution:\")\n",
        "        token_counts = torch.bincount(result)\n",
        "        print(\"\\tMin:\", token_counts.min().item())\n",
        "        print(\"\\tMax:\", token_counts.max().item())\n",
        "        print(\"\\tMean:\", token_counts.float().mean().item())\n",
        "        print(\"\\tMedian:\", token_counts.float().median().item())\n",
        "        print(\"\\tHistogram:\")\n",
        "        plt.figure()\n",
        "        plt.hist(token_counts, bins=250, log=True)\n",
        "        plt.title(f\"{tok_name} Token Frequency Distribution\")\n",
        "        plt.xlabel(\"Token Frequency\")\n",
        "        plt.ylabel(\"Token Count\")\n",
        "        plt.show()"
      ]
    },
    {
      "cell_type": "code",
      "execution_count": 14,
      "metadata": {
        "id": "ipDfZZUKc9wC",
        "colab": {
          "base_uri": "https://localhost:8080/"
        },
        "outputId": "fe2fb1ef-a872-42e7-da21-52ec9bc43d82"
      },
      "outputs": [
        {
          "output_type": "stream",
          "name": "stdout",
          "text": [
            "=== shakespeare_tok vs daily_dialog_tok ===\n",
            "\tshakespeare_tok has 19864 tokens\n",
            "\tdaily_dialog_tok has 17823 tokens\n",
            "\tIntersection has 7941 tokens\n",
            "\tUnion has 29746 tokens\n",
            "\tJaccard Similarity: 0.26696026356484903\n",
            "\tshakespeare_tok-only tokens: 11923 tokens\n",
            "\tdaily_dialog_tok-only tokens: 9882 tokens\n",
            "=== shakespeare_tok vs both_tok ===\n",
            "\tshakespeare_tok has 19864 tokens\n",
            "\tboth_tok has 20001 tokens\n",
            "\tIntersection has 14173 tokens\n",
            "\tUnion has 25692 tokens\n",
            "\tJaccard Similarity: 0.551650319165499\n",
            "\tshakespeare_tok-only tokens: 5691 tokens\n",
            "\tboth_tok-only tokens: 5828 tokens\n",
            "=== daily_dialog_tok vs both_tok ===\n",
            "\tdaily_dialog_tok has 17823 tokens\n",
            "\tboth_tok has 20001 tokens\n",
            "\tIntersection has 12772 tokens\n",
            "\tUnion has 25052 tokens\n",
            "\tJaccard Similarity: 0.5098195752834105\n",
            "\tdaily_dialog_tok-only tokens: 5051 tokens\n",
            "\tboth_tok-only tokens: 7229 tokens\n"
          ]
        }
      ],
      "source": [
        "# Comparison metrics\n",
        "for tok_name1, tok in tokenizers.items():\n",
        "    for tok_name2, tok in tokenizers.items():\n",
        "        if tok_name1 <= tok_name2:\n",
        "            continue\n",
        "        print(f\"=== {tok_name1} vs {tok_name2} ===\")\n",
        "        vocab1: Dict[str, int] = tokenizers[tok_name1].get_vocab()\n",
        "        vocab2: Dict[str, int] = tokenizers[tok_name2].get_vocab()\n",
        "        vocab1_set = set(vocab1.keys())\n",
        "        vocab2_set = set(vocab2.keys())\n",
        "        intersection = vocab1_set.intersection(vocab2_set)\n",
        "        union = vocab1_set.union(vocab2_set)\n",
        "        print(f\"\\t{tok_name1} has {len(vocab1_set)} tokens\")\n",
        "        print(f\"\\t{tok_name2} has {len(vocab2_set)} tokens\")\n",
        "        print(f\"\\tIntersection has {len(intersection)} tokens\")\n",
        "        print(f\"\\tUnion has {len(union)} tokens\")\n",
        "        print(f\"\\tJaccard Similarity: {len(intersection) / len(union)}\")\n",
        "        print(f\"\\t{tok_name1}-only tokens: {len(vocab1_set - vocab2_set)} tokens\")\n",
        "        print(f\"\\t{tok_name2}-only tokens: {len(vocab2_set - vocab1_set)} tokens\")"
      ]
    },
    {
      "cell_type": "markdown",
      "metadata": {
        "id": "Q6nlHAfhc9wC"
      },
      "source": [
        "## Finalize Tokenizer and Dataset\n",
        "\n",
        "Now that we've analyzed the tokenizers' tradeoffs, we'll select the `both_tokenizer` as our final tokenizer, as it has the largest vocabulary and high Jaccard index with both of the other tokenizers. Its compression of both datasets is also comparable to the other tokenizers' individual compression of their respective datasets.\n",
        "\n",
        "By saving the Tokenizer, we can load it later without having to retrain it, which will save us time. It also allows us to keep it constant across all models, which will allow us to compare the models' vocabularies and predictions more easily."
      ]
    },
    {
      "cell_type": "markdown",
      "metadata": {
        "id": "zQ4vJD-Sc9wC"
      },
      "source": [
        "### Save the tokenizer"
      ]
    },
    {
      "cell_type": "code",
      "execution_count": 15,
      "metadata": {
        "id": "8Lw4-RLHc9wC"
      },
      "outputs": [],
      "source": [
        "both_tokenizer.save(\"tokenizer.json\")"
      ]
    },
    {
      "cell_type": "markdown",
      "metadata": {
        "id": "Xe4gij5Ic9wC"
      },
      "source": [
        "### Re-load the tokenizer\n",
        "For future runs, you can skip here after \"Load the datasets\" when you want to use the same tokenizer."
      ]
    },
    {
      "cell_type": "code",
      "execution_count": 16,
      "metadata": {
        "id": "_qPJVBrIc9wC"
      },
      "outputs": [],
      "source": [
        "tokenizer = tokenizer_toy.SimpleWordPieceTokenizer.load(\"tokenizer.json\")"
      ]
    },
    {
      "cell_type": "markdown",
      "metadata": {
        "id": "-R2jjnGzc9wC"
      },
      "source": [
        "### Tokenize the datasets"
      ]
    },
    {
      "cell_type": "code",
      "execution_count": 17,
      "metadata": {
        "id": "XXH1LYg4c9wC",
        "colab": {
          "base_uri": "https://localhost:8080/"
        },
        "outputId": "a7547e06-57e7-402d-af45-e6a8353937f2"
      },
      "outputs": [
        {
          "output_type": "stream",
          "name": "stdout",
          "text": [
            "shakespeare_train_tokens: 1349630 tokens\n",
            "shakespeare_val_tokens: 78455 tokens\n",
            "daily_dialog_train_tokens: 1375910 tokens\n",
            "daily_dialog_val_tokens: 126932 tokens\n"
          ]
        }
      ],
      "source": [
        "shakespeare_train_tokens = tokenize_dataset(shakespeare_train_text, tokenizer)\n",
        "print(\"shakespeare_train_tokens:\", len(shakespeare_train_tokens), \"tokens\")\n",
        "shakespeare_val_tokens = tokenize_dataset(shakespeare_val_text, tokenizer)\n",
        "print(\"shakespeare_val_tokens:\", len(shakespeare_val_tokens), \"tokens\")\n",
        "daily_dialog_train_tokens = tokenize_dataset(daily_dialog_train_text, tokenizer)\n",
        "print(\"daily_dialog_train_tokens:\", len(daily_dialog_train_tokens), \"tokens\")\n",
        "daily_dialog_val_tokens = tokenize_dataset(daily_dialog_val_text, tokenizer)\n",
        "print(\"daily_dialog_val_tokens:\", len(daily_dialog_val_tokens), \"tokens\")"
      ]
    },
    {
      "cell_type": "markdown",
      "metadata": {
        "id": "cBIpKAn-c9wC"
      },
      "source": [
        "## Batchify dataset\n",
        "- Create batches out of the long list of number\n",
        "- This allows for parallel computation during training\n",
        "- Drawback being the relationship between the batches are not learned\n",
        "\n",
        "See this link for more detail: https://pytorch.org/tutorials/beginner/transformer_tutorial.html#load-and-batch-data"
      ]
    },
    {
      "cell_type": "code",
      "execution_count": 18,
      "metadata": {
        "id": "3pFt7H9tc9wC"
      },
      "outputs": [],
      "source": [
        "@torch.jit.script\n",
        "def batchify(data: Tensor, bsz: int) -> Tensor:\n",
        "    \"\"\"Divides the data into bsz separate sequences, removing extra elements\n",
        "    that wouldn't cleanly fit.\n",
        "\n",
        "    Args:\n",
        "        data: Tensor, shape [N]\n",
        "        bsz: int, batch size\n",
        "\n",
        "    Returns:\n",
        "        Tensor of shape [N // bsz, bsz]\n",
        "    \"\"\"\n",
        "    seq_len = data.size(0) // bsz\n",
        "    data = data[:seq_len * bsz]\n",
        "    data = data.view(bsz, seq_len).t().contiguous()\n",
        "    return data"
      ]
    },
    {
      "cell_type": "markdown",
      "metadata": {
        "id": "HM-vEROEc9wC"
      },
      "source": [
        "## Generate input and target sequence\n",
        "- Grab an input sequence with length `seq_len` from the batchify data starting at index `i`\n",
        "- The target sequence also has the same length `seq_len` but the starting index is `i+1`\n",
        "\n",
        "See this link for more detail: https://pytorch.org/tutorials/beginner/transformer_tutorial.html#functions-to-generate-input-and-target-sequence"
      ]
    },
    {
      "cell_type": "code",
      "execution_count": 19,
      "metadata": {
        "id": "FrhHIvOrc9wC"
      },
      "outputs": [],
      "source": [
        "def get_batch(source: Tensor, i: int, bptt: int) -> Tuple[Tensor, Tensor]:\n",
        "    \"\"\"\n",
        "    Args:\n",
        "        source: Tensor, shape [full_seq_len, batch_size]\n",
        "        i: int\n",
        "\n",
        "    Returns:\n",
        "        tuple (data, target), where data has shape [seq_len, batch_size] and\n",
        "        target has shape [seq_len * batch_size]\n",
        "    \"\"\"\n",
        "    seq_len = min(bptt, len(source) - 1 - i)\n",
        "    data = source[i:i+seq_len]\n",
        "    target = source[i+1:i+1+seq_len].reshape(-1)\n",
        "    return data, target"
      ]
    },
    {
      "cell_type": "code",
      "execution_count": 20,
      "metadata": {
        "id": "EMgkbt3zc9wC",
        "colab": {
          "base_uri": "https://localhost:8080/"
        },
        "outputId": "7b9d31fd-0943-4c80-e1a6-af0d94cafdd2"
      },
      "outputs": [
        {
          "output_type": "stream",
          "name": "stdout",
          "text": [
            "shakespeare_train_text 21087\n",
            "daily_dialog_train_text 21498\n"
          ]
        }
      ],
      "source": [
        "print(\"shakespeare_train_text\", len(batchify(shakespeare_train_tokens, 64)))\n",
        "print(\"daily_dialog_train_text\", len(batchify(daily_dialog_train_tokens, 64)))"
      ]
    },
    {
      "cell_type": "code",
      "execution_count": 21,
      "metadata": {
        "id": "h819vtiic9wD",
        "colab": {
          "base_uri": "https://localhost:8080/"
        },
        "outputId": "d8760246-4840-4f06-d3e1-f1787b9b8e48"
      },
      "outputs": [
        {
          "output_type": "stream",
          "name": "stdout",
          "text": [
            "=== Shakespeare ===\n",
            "Example data: tensor([[19753,    14, 20000,   566,    26,   860,    43,   986,  3073,   145,\n",
            "           550,   791,    12, 20000,   566,    26,  3918,   158,   556,     7,\n",
            "            53,  5343,    12,  4192,    12,  4434,   145, 13203,    12, 20000,\n",
            "           566,    26,  6990,   199,  1714, 17034,   145, 17303,  4624,    12,\n",
            "         20000,   566,    26,    43,   498,   160,  3288,    35, 18118,  2983,\n",
            "            14, 20000,   566,    26,   986],\n",
            "        [ 8011,    80,   483,    14, 20000,   296,    26,   193,    13,   477,\n",
            "          2472, 20000,  2472,    26,   588,   208,  4737,    12,   588,   208,\n",
            "           158,  3374,    12, 20000,  2472,    26,   987, 15849,    84,   199,\n",
            "           131,  5936,   145,  5269,   199, 13595,    12, 20000,  2472,    26,\n",
            "            43,   216,   236,  2138, 12165,    77,    12,   236,  2138,   222,\n",
            "            12, 20000,  2472,    26,   176]])\n",
            "Example targets: tensor([   14,    80, 20000,   483,   566,    14,    26, 20000,   860,   296,\n",
            "           43,    26,   986,   193,  3073,    13,   145,   477,   550,  2472,\n",
            "          791, 20000,    12,  2472, 20000,    26,   566,   588,    26,   208,\n",
            "         3918,  4737,   158,    12,   556,   588,     7,   208,    53,   158,\n",
            "         5343,  3374,    12,    12,  4192, 20000,    12,  2472,  4434,    26,\n",
            "          145,   987, 13203, 15849,    12,    84, 20000,   199,   566,   131,\n",
            "           26,  5936,  6990,   145,   199,  5269,  1714,   199, 17034, 13595,\n",
            "          145,    12, 17303, 20000,  4624,  2472,    12,    26, 20000,    43,\n",
            "          566,   216,    26,   236,    43,  2138,   498, 12165,   160,    77,\n",
            "         3288,    12,    35,   236, 18118,  2138,  2983,   222,    14,    12,\n",
            "        20000, 20000,   566,  2472,    26,    26,   986,   176,    35,  3945])\n",
            "=== Example data[0] decoded ===\n",
            "rumours. \n",
            " gloucester : because i cannot flatter and speak fair, \n",
            " gloucester : smile in men ' s faces, smooth, deceive and cog, \n",
            " gloucester : duck with french nods and apish courtesy, \n",
            " gloucester : i must be held a rancorous enemy. \n",
            " gloucester : cannot\n",
            "=== Example data[1] decoded ===\n",
            "females mad. \n",
            " narrator : re - enter hermia \n",
            " hermia : never so weary, never so in woe, \n",
            " hermia : bedabbled with the dew and torn with briers, \n",
            " hermia : i can no further crawl, no further go, \n",
            " hermia : my\n",
            "=== Example targets decoded ===\n",
            ".s \n",
            " mad gloucester. : \n",
            " because narrator i : cannot re flatter - and enter speak hermia\n",
            "=== Daily Dialog ===\n",
            "Example data: tensor([[   14,   130,    43,     7,   273,   485,   159,    35,   742,    14,\n",
            "           485,   177,    35,   505,   145,   323,     7,    53,   222,   639,\n",
            "          1261,    14,   130,   448,    14,    43,     7,   273,   505,   134,\n",
            "          2665,   787,    14,   130,   464,    14,   130, 20000,   200,  5163,\n",
            "            80,   134,    29,   130,   176,  2120,  1869,    14,   220,  5135,\n",
            "            12,   297, 14258,   177,   523],\n",
            "        [ 5593,   269,   134,   433,   353,   491,    14,   130, 20000,  2397,\n",
            "            12,   446,   134,   180,   177,    35,  1976,    29,   130,   200,\n",
            "             7,    53,   315,    29,   130,   446,   134,  1717,   315,  3634,\n",
            "            14,  3802,   341,  1229,   704,   247,   131,  6181,  3851,    29,\n",
            "           130,   411,   278,     7,    54,   134,   222,    29,   130,    43,\n",
            "             7,    47,  2626,   141,   180]])\n",
            "Example targets: tensor([  130,   269,    43,   134,     7,   433,   273,   353,   485,   491,\n",
            "          159,    14,    35,   130,   742, 20000,    14,  2397,   485,    12,\n",
            "          177,   446,    35,   134,   505,   180,   145,   177,   323,    35,\n",
            "            7,  1976,    53,    29,   222,   130,   639,   200,  1261,     7,\n",
            "           14,    53,   130,   315,   448,    29,    14,   130,    43,   446,\n",
            "            7,   134,   273,  1717,   505,   315,   134,  3634,  2665,    14,\n",
            "          787,  3802,    14,   341,   130,  1229,   464,   704,    14,   247,\n",
            "          130,   131, 20000,  6181,   200,  3851,  5163,    29,    80,   130,\n",
            "          134,   411,    29,   278,   130,     7,   176,    54,  2120,   134,\n",
            "         1869,   222,    14,    29,   220,   130,  5135,    43,    12,     7,\n",
            "          297,    47, 14258,  2626,   177,   141,   523,   180,   167,   159])\n",
            "=== Example data[0] decoded ===\n",
            ". __eou__ i ' ll give it a try. give me a call and let ' s go down together. __eou__ ok. i ' ll call you saturday morning. __eou__ great. __eou__ \n",
            " what upsets you? __eou__ my parents called. as usual, they reminded me again\n",
            "=== Example data[1] decoded ===\n",
            "attendant if you need any help. __eou__ \n",
            " thomas, could you do me a favor? __eou__ what ' s up? __eou__ could you pick up mrs. david from ford company at the capital airport? __eou__ why don ' t you go? __eou__ i ' m supposed to do\n",
            "=== Example targets decoded ===\n",
            "__eou__ if i you ' need ll any give help it. a __eou__ try \n",
            ". thomas give,\n"
          ]
        }
      ],
      "source": [
        "# Example batch drawn from the data and decoded\n",
        "# to show what the model will be predicting against\n",
        "def print_example_batch(tokenizer: tokenizer_toy.SimpleWordPieceTokenizer, training_data: Tensor):\n",
        "    example_batch = batchify(training_data, 2)\n",
        "    example_data, example_targets = get_batch(example_batch, 6485, 55)\n",
        "    print(f\"Example data: {example_data.t()}\")\n",
        "    print(f\"Example targets: {example_targets}\")\n",
        "    print(\n",
        "        f\"=== Example data[0] decoded ===\\n{tokenizer.decode(example_data[:, 0].tolist())}\"\n",
        "    )\n",
        "    print(\n",
        "        f\"=== Example data[1] decoded ===\\n{tokenizer.decode(example_data[:, 1].tolist())}\"\n",
        "    )\n",
        "    print(\n",
        "        f\"=== Example targets decoded ===\\n{tokenizer.decode(example_targets.tolist()[:20])}\"\n",
        "    )\n",
        "\n",
        "\n",
        "print(\"=== Shakespeare ===\")\n",
        "print_example_batch(tokenizer, shakespeare_train_tokens)\n",
        "print(\"=== Daily Dialog ===\")\n",
        "print_example_batch(tokenizer, daily_dialog_train_tokens)"
      ]
    },
    {
      "cell_type": "markdown",
      "metadata": {
        "id": "KLZwMoT8c9wD"
      },
      "source": [
        "## Create recurrent neural network model\n",
        "A recurrent neural network with an embedding layer, one or more recurrent layers, and a linear layer.\n",
        "\n",
        "We use this `RecurrentModel` class to describe the behavior of the embedding and output layers, which are the same no matter which recurrent unit we use. We then pass the recurrent unit as a parameter to the `RecurrentModel` constructor to describe the behavior of the recurrent layers. This lets us easily create models with different recurrent units to compare their performance.\n",
        "\n",
        "Once again, this model has not changed from the last assignment. Copy over your `forward` implementation from before."
      ]
    },
    {
      "cell_type": "code",
      "execution_count": 52,
      "metadata": {
        "id": "YAQwUo0Bc9wD"
      },
      "outputs": [],
      "source": [
        "class RecurrentModel(Module):\n",
        "    \"\"\"The recurrent neural network.\"\"\"\n",
        "\n",
        "    # __init__ is the constructor.\n",
        "    # It sets up new instances of the class.\n",
        "    def __init__(\n",
        "        self,\n",
        "        vocab_size: int,\n",
        "        recurrent_module: Union[RNN, LSTM, GRU],\n",
        "    ) -> None:\n",
        "        \"\"\"Initialize the recurrent neural network.\n",
        "\n",
        "        Note: For this model architecure, if the number of layers is greater\n",
        "        than 1, then embedding size and hidden size must be equal.\n",
        "\n",
        "        Args:\n",
        "            vocab_size (int): The number of vocabulary in the dataset.\n",
        "            embedding_dim (int): The dimension of the embedding output.\n",
        "            hidden_size (int): The size of the recurrent unit's hidden state.\n",
        "            num_layers (int): The number of recurrent unit layers.\n",
        "\n",
        "        Raises:\n",
        "            ValueError: If the number of layers is greater than 1 and the\n",
        "            embedding size is not equal to the hidden size.\n",
        "        \"\"\"\n",
        "        # First, we call the superclass constructor\n",
        "        # to give PyTorch a chance to set up the\n",
        "        # parts of the object it needs to.\n",
        "        super().__init__()\n",
        "\n",
        "        # num_layers is how many layers the recurrent unit has.\n",
        "        num_layers = recurrent_module.num_layers\n",
        "\n",
        "        # hidden_size is the size of the hidden state of the recurrent unit.\n",
        "        hidden_size = recurrent_module.hidden_size\n",
        "\n",
        "        # embedding_dim is the size of the embedding output.\n",
        "        embedding_dim = recurrent_module.input_size\n",
        "\n",
        "        if (num_layers > 1) and (hidden_size != embedding_dim):\n",
        "            raise ValueError(\n",
        "                \"When the number of layers is greater than 1, the embedding \"\n",
        "                \"size and hidden size must be equal.\"\n",
        "            )\n",
        "\n",
        "        # The embedding layer turns the token IDs into embedding vectors.\n",
        "        # This is a matrix of size [vocab_size, embedding_dim].\n",
        "        # Each row of the matrix corresponds to one token in the vocabulary,\n",
        "        #  providing a sort of \"meaning in isolation\" for that token.\n",
        "        # The embedding layer is a trainable part of the model,\n",
        "        #  so it will be updated during training.\n",
        "        # The values start out initialized randomly.\n",
        "        self.embedding = Embedding(\n",
        "            num_embeddings=vocab_size, embedding_dim=embedding_dim\n",
        "        )\n",
        "\n",
        "        # The recurrent module is the main part of the model.\n",
        "        # It takes in a sequence of embedding vectors\n",
        "        #  and spreads information across the sequence.\n",
        "        self.rnn = recurrent_module\n",
        "\n",
        "        # The linear layer is the output layer of the model.\n",
        "        # It takes in the final embedding vector from the\n",
        "        #  recurrent module and outputs a vector of size [vocab_size].\n",
        "        # This vector contains a score for each token in the vocabulary.\n",
        "        # The token with the highest score is the one the model predicts\n",
        "        #  as the next token, so the model will try to make the score\n",
        "        #  for the correct token as high as possible.\n",
        "        self.linear = Linear(hidden_size, vocab_size)\n",
        "\n",
        "    # The forward method is called when we pass data through the model.\n",
        "    def forward(\n",
        "        self,\n",
        "        x: Tensor,\n",
        "        prev_state: Optional[Union[Tensor, Tuple[Tensor, Tensor]]],\n",
        "    ) -> Tuple[Tensor, Union[Tensor, Tuple[Tensor, Tensor]]]:\n",
        "        \"\"\"Pass the a batch of data through the recurrent neural network model\n",
        "        along with the previous state.\n",
        "\n",
        "        Args:\n",
        "            x (Tensor): The batch of data.\n",
        "            prev_states (Tensor): The previous states of the recurrent units.\n",
        "\n",
        "        Returns:\n",
        "            Tuple[Tensor, Tensor]: The logits and hidden states.\n",
        "        \"\"\"\n",
        "\n",
        "        # The embedding layer turns the token IDs into embedding vectors.\n",
        "        # TODO: Embed the input tokens using the embedding layer.\n",
        "        embedded = self.embedding(x)\n",
        "\n",
        "        # The recurrent module takes in a sequence of embedding vectors\n",
        "        #  and spreads information across the sequence via its hidden state.\n",
        "        # TODO: Pass the embedded input tokens into the recurrent module along with the previous state.\n",
        "        output, final_states = self.rnn(embedded, prev_state)\n",
        "\n",
        "        # The linear layer takes in the final embedding vector from the\n",
        "        #  recurrent module and outputs a vector of size [vocab_size].\n",
        "        # TODO: Pass the final embedding vector into the linear layer to get the logits.\n",
        "        logits = self.linear(output)\n",
        "\n",
        "        # Return the logits and the final states.\n",
        "        # TODO: Return the logits and the final states.\n",
        "        return logits, final_states\n",
        "\n",
        "    @torch.jit.export\n",
        "    def detach_state_(self, states: Union[Tensor, Tuple[Tensor, Tensor]]) -> None:\n",
        "        \"\"\"Detach the state of the recurrent units.\n",
        "\n",
        "        This function is used to make sure the model doesn't try to backpropagate\n",
        "        through the entire history of the sequence, as our computers can't\n",
        "        handle that much data.\n",
        "\n",
        "        Args:\n",
        "            states (Union[Tensor, Tuple[Tensor, Tensor]]): The states of the\n",
        "            recurrent units.\n",
        "        \"\"\"\n",
        "        if isinstance(states, Tensor):\n",
        "            states.detach_()\n",
        "        elif isinstance(states, tuple):\n",
        "            for state in states:\n",
        "                state.detach_()"
      ]
    },
    {
      "cell_type": "markdown",
      "metadata": {
        "id": "_5ZPorSEc9wD"
      },
      "source": [
        "## Parameters to tune for your experiments\n",
        "The block below defines a \"Parameters\" class that you can use to configure settings for training runs of your various models. We will guide you through creating training functions that will make use of these parameters to allow you to create mostly-reusable code."
      ]
    },
    {
      "cell_type": "code",
      "execution_count": 36,
      "metadata": {
        "id": "7iOhqvCkc9wD"
      },
      "outputs": [],
      "source": [
        "class Parameters(NamedTuple):\n",
        "    ### Dataset and training parameters\n",
        "    # How many different chunks of text to train on at the same time\n",
        "    BATCH_SIZE: int\n",
        "    # Token target -- how many tokens to backpropagate through at most\n",
        "    BPTT: int\n",
        "    # Learning rate\n",
        "    LR: float\n",
        "    # Number of epochs to train for\n",
        "    EPOCHS: int\n",
        "\n",
        "    ### Model parameters\n",
        "    # Number of dimensions in the embedding of each token.\n",
        "    #   More dimensions --> more meaning, but more computation\n",
        "    EMBEDDING_DIM: int\n",
        "    # Number of dimensions in the hidden state in the recurrent model\n",
        "    HIDDEN_DIM: int\n",
        "    # Number of hidden layers in the recurrent model\n",
        "    NUM_LAYERS: int"
      ]
    },
    {
      "cell_type": "markdown",
      "metadata": {
        "id": "WmqavHd1c9wD"
      },
      "source": [
        "## Define training and evaluation functions\n",
        "- `train_epoch` trains the model for one epoch\n",
        "- `evaluate` evaluates the model on the validation set\n",
        "- `train_run` trains the model for all `EPOCHS` epochs and prints as it goes"
      ]
    },
    {
      "cell_type": "code",
      "execution_count": 37,
      "metadata": {
        "id": "IZvP1-Nrc9wD"
      },
      "outputs": [],
      "source": [
        "def train_epoch(model: RecurrentModel, vocab_size: int, optimizer: torch.optim.Optimizer, train_data: Tensor, parameters:Parameters) -> Tuple[float,float]:\n",
        "    \"\"\"Training function for our recurrent model.\n",
        "\n",
        "    Args:\n",
        "        model (RecurrentModel): The model to train.\n",
        "        train_data (Tensor): Batchified training data.\n",
        "    \"\"\"\n",
        "    # Turn on training mode which enables training-specific\n",
        "    # layer functionality (e.g. dropout)\n",
        "    model.train()\n",
        "\n",
        "    # Keep track of the loss as we go\n",
        "    total_loss: float = 0.\n",
        "\n",
        "    # Determine how many steps we'll need to cover the whole dataset\n",
        "    num_batches: int = len(train_data) // parameters.BPTT\n",
        "\n",
        "    # Keep track of the hidden state between batches.\n",
        "    state = None\n",
        "\n",
        "    # For each of our batches\n",
        "    for i in range(0, train_data.size(0) - 1, parameters.BPTT):\n",
        "        # Throw away gradients from previous step\n",
        "        optimizer.zero_grad()\n",
        "\n",
        "        # Get our input and target batches\n",
        "        data, targets = get_batch(train_data, i, parameters.BPTT)\n",
        "\n",
        "        # Evaluate the model to get logits and the new hidden state\n",
        "        output, state = model(data, state)\n",
        "\n",
        "        # Compute the loss\n",
        "        loss = torch.nn.functional.cross_entropy(output.view(-1, vocab_size), targets)\n",
        "\n",
        "        # Make sure the state does not carry gradients\n",
        "        # between batches so we avoid a runaway memory leak\n",
        "        model.detach_state_(state)\n",
        "\n",
        "        # Compute gradients\n",
        "        loss.backward()\n",
        "\n",
        "        # Clip the gradients to avoid exploding gradients\n",
        "        # (Ask us TAs if you're curious why this is necessary)\n",
        "        torch.nn.utils.clip_grad_norm_(model.parameters(), 0.5)\n",
        "\n",
        "        # Update the parameters\n",
        "        optimizer.step()\n",
        "\n",
        "        # Keep track of the loss\n",
        "        total_loss += loss.item()\n",
        "\n",
        "    # Return the average loss across batches\n",
        "    cur_loss = total_loss / num_batches\n",
        "    # and the perplexity\n",
        "    ppl = math.exp(cur_loss)\n",
        "    return cur_loss, ppl\n"
      ]
    },
    {
      "cell_type": "code",
      "execution_count": 38,
      "metadata": {
        "id": "FVZQXb9rc9wD"
      },
      "outputs": [],
      "source": [
        "def evaluate(model: RecurrentModel, vocab_size: int, val_data: Tensor, parameters: Parameters) -> Tuple[float, float]:\n",
        "    \"\"\"Evaluate the perplexity of the model on the validation data.\n",
        "\n",
        "    Args:\n",
        "        model (RecurrentModel): The model to evaluate.\n",
        "        val_data (Tensor): Batchified validation data.\n",
        "\n",
        "    Returns:\n",
        "        float: The perplexity of the model on the validation data.\n",
        "    \"\"\"\n",
        "    # Turn on evaluation mode which disables\n",
        "    # training-specific functionality (e.g. dropout)\n",
        "    model.eval()\n",
        "\n",
        "    # Keep track of the loss as we go\n",
        "    total_loss: float = 0.\n",
        "\n",
        "    # Determine how many steps we'll need to cover the whole dataset\n",
        "    num_batches: int = len(val_data) // parameters.BPTT\n",
        "\n",
        "    # Keep track of the hidden state between batches.\n",
        "    state = None\n",
        "    with torch.no_grad(): # No need to track gradients here, since we're not training\n",
        "        for i in range(0, val_data.size(0) - 1, parameters.BPTT):\n",
        "            # Get our input and target batches\n",
        "            data, targets = get_batch(val_data, i, parameters.BPTT)\n",
        "\n",
        "            # Evaluate the model to get logits and the new hidden state\n",
        "            output, state = model(data, state)\n",
        "\n",
        "            # Compute the loss\n",
        "            loss = torch.nn.functional.cross_entropy(output.view(-1, vocab_size), targets)\n",
        "            total_loss += loss.item()\n",
        "\n",
        "    # Return the average loss across batches\n",
        "    cur_loss = total_loss / num_batches\n",
        "    # and the perplexity\n",
        "    ppl = math.exp(cur_loss)\n",
        "    return cur_loss, ppl"
      ]
    },
    {
      "cell_type": "code",
      "execution_count": 39,
      "metadata": {
        "id": "zJnd_mZxc9wD"
      },
      "outputs": [],
      "source": [
        "def train_run(model: RecurrentModel, vocab_size: int, train_data: Tensor, validation_data: Tensor, parameters: Parameters, verbose: bool = True) ->None:\n",
        "    \"\"\"Train a model for NUM_EPOCHS epochs.\n",
        "    \"\"\"\n",
        "    # Here we define an optimizer and scheduler to use for training.\n",
        "    # An optimizer adjusts the parameters of the model based on the loss\n",
        "    # and the gradients of the parameters with respect to the loss.\n",
        "\n",
        "    # Adam is a popular optimizer that tends to work well in practice.\n",
        "    # optimizer = torch.optim.Adam(model.parameters(), lr=parameters.LR) # Set LR to about 0.005 to start\n",
        "\n",
        "    # AdamW corrects a minor flaw in the original Adam implementation\n",
        "    # allowing it to converge slightly better.\n",
        "    optimizer = torch.optim.AdamW(model.parameters(), lr=parameters.LR) # Set LR to about 0.01\n",
        "\n",
        "    # SGD is the simple stochastic gradient descent algorithm,\n",
        "    # implemented as LR * gradient.\n",
        "    # Notably, the RNNs shown here need a strong learning rate to\n",
        "    # even begin to move the loss, so we start with a high LR.\n",
        "    # optimizer = torch.optim.SGD(model.parameters(), lr=parameters.LR) # Set LR to about 10.0 to start\n",
        "\n",
        "    # The scheduler adjusts the learning rate over time.\n",
        "    # Here we use a scheduler that decreases the learning rate\n",
        "    # by a factor of 0.5 if the training loss doesn't decrease\n",
        "    # for two epochs in a row.\n",
        "    # This makes sure that the model can converge down into a\n",
        "    # minimum once it finds one, instead of bouncing around.\n",
        "    scheduler = torch.optim.lr_scheduler.ReduceLROnPlateau(optimizer, factor=0.5, patience=1, threshold=1e-3)\n",
        "\n",
        "    # Train for NUM_EPOCHS epochs\n",
        "    for epoch in range(1,parameters.EPOCHS+1,1):\n",
        "        if verbose:\n",
        "            # Print out an initial message stating the epoch number\n",
        "            # and learning rate\n",
        "            lrs = [group['lr'] for group in optimizer.param_groups]\n",
        "            lr = lrs[0] if len(lrs) > 0 else -1\n",
        "            # The end='' argument tells Python not to print a newline\n",
        "            # so we can extend this row with more information\n",
        "            # as we compute it.\n",
        "            print(f'| epoch {epoch:3d} | lr {lr:03.3f} | ', end='')\n",
        "\n",
        "        # Train for one epoch\n",
        "        loss, ppl = train_epoch(model, vocab_size, optimizer, train_data, parameters)\n",
        "\n",
        "        # Update the learning rate\n",
        "        scheduler.step(loss)\n",
        "        # Note that we can move this line after the validation step\n",
        "        # if we want to update the learning rate based on the val\n",
        "        # loss instead of the training loss.\n",
        "\n",
        "        if verbose:\n",
        "            # Update the printed row with the training loss and perplexity\n",
        "            # so that the user knows the training step completed and that\n",
        "            # we're now evaluating on the validation set.\n",
        "            print(f'train loss {loss:5.2f} | train ppl {ppl:8.2f} | ', end='')\n",
        "\n",
        "        # Evaluate on the validation set\n",
        "        val_loss, val_ppl = evaluate(model, vocab_size, validation_data, parameters)\n",
        "\n",
        "        if verbose:\n",
        "            # Update the printed row with the validation loss and perplexity\n",
        "            print(f'val loss {val_loss:5.2f} | val ppl {val_ppl:8.2f} |')\n",
        "            # We no longer have the end='' argument, so this completes the line."
      ]
    },
    {
      "cell_type": "code",
      "execution_count": 40,
      "metadata": {
        "id": "31rAutqEc9wD"
      },
      "outputs": [],
      "source": [
        "def generate_text(\n",
        "    tokenizer: tokenizer_toy.SimpleWordPieceTokenizer,\n",
        "    model: RecurrentModel,\n",
        "    input_text: str,\n",
        "    num_tokens_to_generate: int,\n",
        "    by_prob: bool = False,\n",
        ") -> str:\n",
        "    \"\"\"Input a text and use the model generate the next `n` words.\n",
        "\n",
        "    Args:\n",
        "        tokenizer (Tokenizer): The tokenizer used in training.\n",
        "        model (RNNModel): A trained recurrent neural network model.\n",
        "        text (str): A string of text to generate the text off of.\n",
        "        num_words (int, optional): The number of words to generate.\n",
        "            Defaults to 10.\n",
        "        by_prob (bool, optional): If `True`, words are randomly generated\n",
        "            based on probability. If `False`, words are generated based on\n",
        "            highest probability. Defaults to False.\n",
        "\n",
        "    Returns:\n",
        "        str: Generated text string.\n",
        "    \"\"\"\n",
        "\n",
        "    # Set the model to evaluation mode (no Dropout and the like)\n",
        "    model.eval()\n",
        "\n",
        "    with torch.no_grad(): # Disable gradient calculation because we won't use it\n",
        "\n",
        "        # Process our input text\n",
        "        data = tokenize_dataset(input_text, tokenizer)\n",
        "        # Turn it into a batch for the model\n",
        "        x = data.reshape((-1, 1)).to(DEVICE)\n",
        "\n",
        "        state = None # Start with a blank state\n",
        "        output_tokens = [] # Keep track of the generated tokens\n",
        "        for _ in range(num_tokens_to_generate):\n",
        "            # Get the model's predicted next token\n",
        "            y_pred, state = model(x, state)\n",
        "            # We only care about the last token's predictions\n",
        "            last_word_logits = y_pred[-1][0]\n",
        "\n",
        "            # If we're generating by probability, we'll randomly choose a word\n",
        "            if by_prob:\n",
        "                # Normalize the logits so they form a probability distribution\n",
        "                p = (\n",
        "                    torch.nn.functional.softmax(last_word_logits, dim=0)\n",
        "                )\n",
        "                # Randomly choose the next word based on the probability\n",
        "                word_index = p.multinomial(num_samples=1).cpu().item()\n",
        "            else:\n",
        "                # Otherwise, we'll just choose the word with the highest probability\n",
        "                word_index = torch.argmax(last_word_logits)\n",
        "\n",
        "            # Add the generated word to our output\n",
        "            output_tokens.append(word_index)\n",
        "\n",
        "            # Add the generated word as the next input to the model\n",
        "            x = torch.tensor([word_index]).reshape(1, 1).to(DEVICE)\n",
        "\n",
        "    # Decode the generated tokens and return the result\n",
        "    return tokenizer.decode(output_tokens)"
      ]
    },
    {
      "cell_type": "code",
      "execution_count": 57,
      "metadata": {
        "id": "RlHfjp12c9wD"
      },
      "outputs": [],
      "source": [
        "def create_model(\n",
        "    vocab_size: int,\n",
        "    parameters: Parameters,\n",
        "    model_type: Callable[..., Union[RNN, LSTM, GRU]],\n",
        "    script: bool = True,\n",
        ") -> RecurrentModel:\n",
        "    \"\"\"Create a recurrent model.\n",
        "\n",
        "    Args:\n",
        "        vocab_size (int): The number of vocabulary in the dataset.\n",
        "        parameters (Parameters): The model parameters.\n",
        "        model_type (Callable[..., Union[RNN, LSTM, GRU]]): The type of recurrent\n",
        "            model to create.\n",
        "\n",
        "    Returns:\n",
        "        RecurrentModel: The recurrent model.\n",
        "    \"\"\"\n",
        "    # Create the model\n",
        "    # We've split the model into two pieces:\n",
        "    # 1. The RecurrentModel class, which defines the overall model architecture\n",
        "    #    including the embedding and output layer\n",
        "    # 2. The RNN, LSTM, or GRU class, which defines the recurrent unit\n",
        "    #    that will be used inside the model.\n",
        "    # This allows us to easily swap out different recurrent units\n",
        "    # without having to rewrite the whole model's code\n",
        "    # across multiple notebooks or cells.\n",
        "\n",
        "    # The added \"torch.jit.script\" is a magic incantation that\n",
        "    # tells PyTorch to compile the model into a more efficient\n",
        "    # representation. This is not necessary, but it makes the\n",
        "    # model run faster and use less memory.\n",
        "\n",
        "    # The flatten_parameters() call is also not strictly necessary,\n",
        "    # but it makes the model run faster and use less GPU memory\n",
        "    # (and gets rid of a warning message).\n",
        "\n",
        "    instance = RecurrentModel(\n",
        "        vocab_size=vocab_size,\n",
        "        recurrent_module=model_type(\n",
        "            input_size=parameters.EMBEDDING_DIM,\n",
        "            hidden_size=parameters.HIDDEN_DIM,\n",
        "            num_layers=parameters.NUM_LAYERS,\n",
        "        ),\n",
        "    ).to(DEVICE)\n",
        "    instance.rnn.flatten_parameters()\n",
        "    if script:\n",
        "        instance = torch.jit.script(instance)\n",
        "    return instance\n",
        "\n",
        "def train_model(\n",
        "    model: RecurrentModel,\n",
        "    vocab_size: int,\n",
        "    unbatched_train_data: Tensor,\n",
        "    unbatched_validation_data: Tensor,\n",
        "    parameters: Parameters,\n",
        "    verbose: bool = True,\n",
        ") -> None:\n",
        "    if verbose:\n",
        "        print(f'The shape of the training data is {unbatched_train_data.shape}.')\n",
        "    batched_training_data = batchify(unbatched_train_data, parameters.BATCH_SIZE).to(DEVICE)\n",
        "    if verbose:\n",
        "        print(f'The shape of the batched training data is {batched_training_data.shape}.')\n",
        "        print(f'The shape of the validation data is {unbatched_validation_data.shape}.')\n",
        "    batched_validation_data = batchify(unbatched_validation_data, parameters.BATCH_SIZE).to(DEVICE)\n",
        "    if verbose:\n",
        "        print(f'The shape of the batched validation data is {batched_validation_data.shape}.')\n",
        "\n",
        "    train_run(model, vocab_size, batched_training_data, batched_validation_data, parameters, verbose)\n",
        "    return model\n",
        "\n",
        "\n",
        "def create_and_train_model(\n",
        "    vocab_size: int,\n",
        "    parameters: Parameters,\n",
        "    model_type: Callable[..., Union[RNN, LSTM, GRU]],\n",
        "    unbatched_train_data: Tensor,\n",
        "    unbatched_validation_data: Tensor,\n",
        "    verbose: bool = True,\n",
        ") -> RecurrentModel:\n",
        "    \"\"\"Create and train a recurrent model.\n",
        "\n",
        "    Args:\n",
        "        vocab_size (int): The number of vocabulary in the dataset.\n",
        "        parameters (Parameters): The model parameters.\n",
        "        model_type (Callable[..., Union[RNN, LSTM, GRU]]): The type of recurrent\n",
        "            model to create.\n",
        "        train_data (Tensor): Unbatched training data.\n",
        "\n",
        "    Returns:\n",
        "        RecurrentModel: The trained recurrent model.\n",
        "    \"\"\"\n",
        "    model = create_model(vocab_size, parameters, model_type)\n",
        "    model.to(DEVICE)\n",
        "\n",
        "    train_model(model, unbatched_train_data, unbatched_validation_data, parameters, verbose)\n",
        "    return model\n",
        "\n"
      ]
    },
    {
      "cell_type": "markdown",
      "metadata": {
        "id": "UOaD2Z_pc9wD"
      },
      "source": [
        "## Run model-building experiments"
      ]
    },
    {
      "cell_type": "code",
      "execution_count": 58,
      "metadata": {
        "id": "SEPgU_psc9wE"
      },
      "outputs": [],
      "source": [
        "parameters = Parameters(\n",
        "    BATCH_SIZE=32,\n",
        "    BPTT=50,\n",
        "    LR=0.01,\n",
        "    EPOCHS=30,\n",
        "    EMBEDDING_DIM=24,\n",
        "    HIDDEN_DIM=24,\n",
        "    NUM_LAYERS=3,\n",
        ")\n",
        "\n",
        "shakespeare_recurrent_module = LSTM\n",
        "daily_dialog_recurrent_module = RNN"
      ]
    },
    {
      "cell_type": "code",
      "execution_count": 60,
      "metadata": {
        "id": "aPYH9lxEc9wE",
        "colab": {
          "base_uri": "https://localhost:8080/"
        },
        "outputId": "d31640e4-e5c4-4b3a-ce5e-75ea2bead69e"
      },
      "outputs": [
        {
          "output_type": "stream",
          "name": "stdout",
          "text": [
            "The shape of the training data is torch.Size([1349630]).\n",
            "The shape of the batched training data is torch.Size([42175, 32]).\n",
            "The shape of the validation data is torch.Size([78455]).\n",
            "The shape of the batched validation data is torch.Size([2451, 32]).\n",
            "| epoch   1 | lr 0.010 | train loss  5.85 | train ppl   348.61 | val loss  5.78 | val ppl   323.70 |\n",
            "| epoch   2 | lr 0.010 | train loss  4.85 | train ppl   128.06 | val loss  5.47 | val ppl   237.88 |\n",
            "| epoch   3 | lr 0.010 | train loss  4.61 | train ppl   100.92 | val loss  5.38 | val ppl   216.24 |\n",
            "| epoch   4 | lr 0.010 | train loss  4.50 | train ppl    90.14 | val loss  5.32 | val ppl   205.02 |\n",
            "| epoch   5 | lr 0.010 | train loss  4.43 | train ppl    83.91 | val loss  5.28 | val ppl   196.63 |\n",
            "| epoch   6 | lr 0.010 | train loss  4.38 | train ppl    79.83 | val loss  5.26 | val ppl   192.39 |\n",
            "| epoch   7 | lr 0.010 | train loss  4.34 | train ppl    76.96 | val loss  5.22 | val ppl   185.16 |\n",
            "| epoch   8 | lr 0.010 | train loss  4.32 | train ppl    74.82 | val loss  5.21 | val ppl   183.89 |\n",
            "| epoch   9 | lr 0.010 | train loss  4.29 | train ppl    73.21 | val loss  5.22 | val ppl   185.36 |\n",
            "| epoch  10 | lr 0.010 | train loss  4.27 | train ppl    71.84 | val loss  5.26 | val ppl   192.53 |\n",
            "| epoch  11 | lr 0.010 | train loss  4.26 | train ppl    70.62 | val loss  5.26 | val ppl   193.26 |\n",
            "| epoch  12 | lr 0.010 | train loss  4.24 | train ppl    69.46 | val loss  5.29 | val ppl   197.67 |\n",
            "| epoch  13 | lr 0.010 | train loss  4.23 | train ppl    68.44 | val loss  5.33 | val ppl   207.07 |\n",
            "| epoch  14 | lr 0.010 | train loss  4.21 | train ppl    67.66 | val loss  5.34 | val ppl   208.58 |\n",
            "| epoch  15 | lr 0.010 | train loss  4.20 | train ppl    66.42 | val loss  5.38 | val ppl   216.26 |\n",
            "| epoch  16 | lr 0.010 | train loss  4.17 | train ppl    64.90 | val loss  5.45 | val ppl   232.81 |\n",
            "| epoch  17 | lr 0.010 | train loss  4.15 | train ppl    63.40 | val loss  5.38 | val ppl   217.04 |\n",
            "| epoch  18 | lr 0.010 | train loss  4.13 | train ppl    62.39 | val loss  5.40 | val ppl   220.69 |\n",
            "| epoch  19 | lr 0.010 | train loss  4.12 | train ppl    61.58 | val loss  5.37 | val ppl   214.57 |\n",
            "| epoch  20 | lr 0.010 | train loss  4.12 | train ppl    61.62 | val loss  5.41 | val ppl   223.68 |\n",
            "| epoch  21 | lr 0.010 | train loss  4.10 | train ppl    60.38 | val loss  5.42 | val ppl   225.60 |\n",
            "| epoch  22 | lr 0.010 | train loss  4.09 | train ppl    59.75 | val loss  5.45 | val ppl   232.20 |\n",
            "| epoch  23 | lr 0.010 | train loss  4.08 | train ppl    59.30 | val loss  5.40 | val ppl   222.34 |\n",
            "| epoch  24 | lr 0.010 | train loss  4.07 | train ppl    58.84 | val loss  5.46 | val ppl   235.51 |\n",
            "| epoch  25 | lr 0.010 | train loss  4.07 | train ppl    58.47 | val loss  5.47 | val ppl   236.71 |\n",
            "| epoch  26 | lr 0.010 | train loss  4.06 | train ppl    58.16 | val loss  5.48 | val ppl   238.84 |\n",
            "| epoch  27 | lr 0.010 | train loss  4.05 | train ppl    57.67 | val loss  5.43 | val ppl   229.10 |\n",
            "| epoch  28 | lr 0.010 | train loss  4.05 | train ppl    57.33 | val loss  5.48 | val ppl   238.90 |\n",
            "| epoch  29 | lr 0.010 | train loss  4.04 | train ppl    56.92 | val loss  5.38 | val ppl   216.87 |\n",
            "| epoch  30 | lr 0.010 | train loss  4.04 | train ppl    56.68 | val loss  5.37 | val ppl   214.65 |\n"
          ]
        },
        {
          "output_type": "execute_result",
          "data": {
            "text/plain": [
              "RecurrentModel(\n",
              "  (embedding): Embedding(20001, 24)\n",
              "  (rnn): LSTM(24, 24, num_layers=3)\n",
              "  (linear): Linear(in_features=24, out_features=20001, bias=True)\n",
              ")"
            ]
          },
          "metadata": {},
          "execution_count": 60
        }
      ],
      "source": [
        "shakespeare_model = create_model(\n",
        "    vocab_size=tokenizer.get_vocab_size(),\n",
        "    parameters=parameters,\n",
        "    model_type=LSTM,\n",
        "    script=False\n",
        ")\n",
        "train_model(\n",
        "    model=shakespeare_model,\n",
        "    vocab_size=tokenizer.get_vocab_size(),\n",
        "    unbatched_train_data=shakespeare_train_tokens,\n",
        "    unbatched_validation_data=shakespeare_val_tokens,\n",
        "    parameters=parameters,\n",
        "    verbose=True,\n",
        ")"
      ]
    },
    {
      "cell_type": "code",
      "execution_count": 61,
      "metadata": {
        "id": "6joBgDK1c9wE",
        "colab": {
          "base_uri": "https://localhost:8080/"
        },
        "outputId": "00147ae9-cb90-483a-c048-814d286b0524"
      },
      "outputs": [
        {
          "output_type": "stream",
          "name": "stdout",
          "text": [
            "The shape of the training data is torch.Size([1375910]).\n",
            "The shape of the batched training data is torch.Size([42997, 32]).\n",
            "The shape of the validation data is torch.Size([126932]).\n",
            "The shape of the batched validation data is torch.Size([3966, 32]).\n",
            "| epoch   1 | lr 0.010 | train loss  5.41 | train ppl   222.60 | val loss  4.64 | val ppl   103.98 |\n",
            "| epoch   2 | lr 0.010 | train loss  4.43 | train ppl    83.62 | val loss  4.39 | val ppl    80.29 |\n",
            "| epoch   3 | lr 0.010 | train loss  4.26 | train ppl    71.11 | val loss  4.30 | val ppl    73.76 |\n",
            "| epoch   4 | lr 0.010 | train loss  4.19 | train ppl    65.78 | val loss  4.26 | val ppl    71.02 |\n",
            "| epoch   5 | lr 0.010 | train loss  4.14 | train ppl    63.07 | val loss  4.24 | val ppl    69.41 |\n",
            "| epoch   6 | lr 0.010 | train loss  4.12 | train ppl    61.39 | val loss  4.23 | val ppl    68.38 |\n",
            "| epoch   7 | lr 0.010 | train loss  4.10 | train ppl    60.08 | val loss  4.21 | val ppl    67.45 |\n",
            "| epoch   8 | lr 0.010 | train loss  4.08 | train ppl    59.08 | val loss  4.20 | val ppl    66.66 |\n",
            "| epoch   9 | lr 0.010 | train loss  4.06 | train ppl    58.16 | val loss  4.19 | val ppl    66.24 |\n",
            "| epoch  10 | lr 0.010 | train loss  4.05 | train ppl    57.50 | val loss  4.19 | val ppl    66.03 |\n",
            "| epoch  11 | lr 0.010 | train loss  4.04 | train ppl    56.89 | val loss  4.18 | val ppl    65.27 |\n",
            "| epoch  12 | lr 0.010 | train loss  4.03 | train ppl    56.33 | val loss  4.23 | val ppl    68.71 |\n",
            "| epoch  13 | lr 0.010 | train loss  4.02 | train ppl    55.74 | val loss  4.17 | val ppl    64.55 |\n",
            "| epoch  14 | lr 0.010 | train loss  4.01 | train ppl    55.23 | val loss  4.16 | val ppl    64.25 |\n",
            "| epoch  15 | lr 0.010 | train loss  4.00 | train ppl    54.81 | val loss  4.16 | val ppl    64.10 |\n",
            "| epoch  16 | lr 0.010 | train loss  4.00 | train ppl    54.47 | val loss  4.18 | val ppl    65.15 |\n",
            "| epoch  17 | lr 0.010 | train loss  3.99 | train ppl    54.07 | val loss  4.15 | val ppl    63.52 |\n",
            "| epoch  18 | lr 0.010 | train loss  3.98 | train ppl    53.72 | val loss  4.16 | val ppl    63.79 |\n",
            "| epoch  19 | lr 0.010 | train loss  3.98 | train ppl    53.33 | val loss  4.14 | val ppl    62.63 |\n",
            "| epoch  20 | lr 0.010 | train loss  3.97 | train ppl    52.99 | val loss  4.13 | val ppl    62.47 |\n",
            "| epoch  21 | lr 0.010 | train loss  3.97 | train ppl    52.81 | val loss  4.14 | val ppl    62.57 |\n",
            "| epoch  22 | lr 0.010 | train loss  3.96 | train ppl    52.61 | val loss  4.15 | val ppl    63.22 |\n",
            "| epoch  23 | lr 0.010 | train loss  3.96 | train ppl    52.40 | val loss  4.13 | val ppl    62.30 |\n",
            "| epoch  24 | lr 0.010 | train loss  3.96 | train ppl    52.20 | val loss  4.13 | val ppl    61.91 |\n",
            "| epoch  25 | lr 0.010 | train loss  3.95 | train ppl    51.94 | val loss  4.14 | val ppl    62.86 |\n",
            "| epoch  26 | lr 0.010 | train loss  3.95 | train ppl    51.73 | val loss  4.13 | val ppl    61.92 |\n",
            "| epoch  27 | lr 0.010 | train loss  3.94 | train ppl    51.47 | val loss  4.12 | val ppl    61.64 |\n",
            "| epoch  28 | lr 0.010 | train loss  3.94 | train ppl    51.36 | val loss  4.13 | val ppl    62.25 |\n",
            "| epoch  29 | lr 0.010 | train loss  3.94 | train ppl    51.21 | val loss  4.12 | val ppl    61.83 |\n",
            "| epoch  30 | lr 0.010 | train loss  3.93 | train ppl    51.07 | val loss  4.12 | val ppl    61.71 |\n"
          ]
        },
        {
          "output_type": "execute_result",
          "data": {
            "text/plain": [
              "RecurrentModel(\n",
              "  (embedding): Embedding(20001, 24)\n",
              "  (rnn): RNN(24, 24, num_layers=3)\n",
              "  (linear): Linear(in_features=24, out_features=20001, bias=True)\n",
              ")"
            ]
          },
          "metadata": {},
          "execution_count": 61
        }
      ],
      "source": [
        "daily_dialog_model = create_model(\n",
        "    vocab_size=tokenizer.get_vocab_size(),\n",
        "    parameters=parameters,\n",
        "    model_type=daily_dialog_recurrent_module,\n",
        "    script=False\n",
        ")\n",
        "train_model(\n",
        "    model=daily_dialog_model,\n",
        "    vocab_size=tokenizer.get_vocab_size(),\n",
        "    unbatched_train_data=daily_dialog_train_tokens,\n",
        "    unbatched_validation_data=daily_dialog_val_tokens,\n",
        "    parameters=parameters,\n",
        "    verbose=True,\n",
        ")"
      ]
    },
    {
      "cell_type": "markdown",
      "metadata": {
        "id": "yoxGxjJ-c9wE"
      },
      "source": [
        "## Save final models\n",
        "\n",
        "Just like with the Tokenizer, we can save the model so that we can load it later without having to retrain it, which will save us time."
      ]
    },
    {
      "cell_type": "code",
      "execution_count": 63,
      "metadata": {
        "id": "ep4yKrncc9wE"
      },
      "outputs": [],
      "source": [
        "torch.save(shakespeare_model.state_dict(), \"shakespeare_model.pt\")\n",
        "torch.save(daily_dialog_model.state_dict(), \"daily_dialog_model.pt\")"
      ]
    },
    {
      "cell_type": "markdown",
      "metadata": {
        "id": "Zc8De8XJc9wE"
      },
      "source": [
        "**Remember to download the model files and tokenizer together from Colab to preserve them!**\n",
        "\n",
        "(If running in a local Jupyter notebook instance, the files are already saved to your computer.)"
      ]
    },
    {
      "cell_type": "markdown",
      "metadata": {
        "id": "IOrY9it6c9wE"
      },
      "source": [
        "### Reload the models\n",
        "\n",
        "To run this \"reload\"-ing code, we'll need the definition of `RecurrentModel` to be in scope. If you've restarted your runtime, you'll need to re-run the cell where you defined `RecurrentModel` before running the below cell."
      ]
    },
    {
      "cell_type": "code",
      "execution_count": 65,
      "metadata": {
        "id": "VqhGwGdUc9wE",
        "colab": {
          "base_uri": "https://localhost:8080/"
        },
        "outputId": "0cd329aa-9d48-4178-e7ec-6b531cef50b8"
      },
      "outputs": [
        {
          "output_type": "stream",
          "name": "stderr",
          "text": [
            "<ipython-input-65-dff9b8a38921>:8: FutureWarning: You are using `torch.load` with `weights_only=False` (the current default value), which uses the default pickle module implicitly. It is possible to construct malicious pickle data which will execute arbitrary code during unpickling (See https://github.com/pytorch/pytorch/blob/main/SECURITY.md#untrusted-models for more details). In a future release, the default value for `weights_only` will be flipped to `True`. This limits the functions that could be executed during unpickling. Arbitrary objects will no longer be allowed to be loaded via this mode unless they are explicitly allowlisted by the user via `torch.serialization.add_safe_globals`. We recommend you start setting `weights_only=True` for any use case where you don't have full control of the loaded file. Please open an issue on GitHub for any issues related to this experimental feature.\n",
            "  shakespeare_model.load_state_dict(torch.load(\"shakespeare_model.pt\"))\n",
            "<ipython-input-65-dff9b8a38921>:16: FutureWarning: You are using `torch.load` with `weights_only=False` (the current default value), which uses the default pickle module implicitly. It is possible to construct malicious pickle data which will execute arbitrary code during unpickling (See https://github.com/pytorch/pytorch/blob/main/SECURITY.md#untrusted-models for more details). In a future release, the default value for `weights_only` will be flipped to `True`. This limits the functions that could be executed during unpickling. Arbitrary objects will no longer be allowed to be loaded via this mode unless they are explicitly allowlisted by the user via `torch.serialization.add_safe_globals`. We recommend you start setting `weights_only=True` for any use case where you don't have full control of the loaded file. Please open an issue on GitHub for any issues related to this experimental feature.\n",
            "  daily_dialog_model.load_state_dict(torch.load(\"daily_dialog_model.pt\"))\n"
          ]
        },
        {
          "output_type": "execute_result",
          "data": {
            "text/plain": [
              "<All keys matched successfully>"
            ]
          },
          "metadata": {},
          "execution_count": 65
        }
      ],
      "source": [
        "shakespeare_model = create_model(\n",
        "    vocab_size=tokenizer.get_vocab_size(),\n",
        "    parameters=parameters,\n",
        "    model_type=shakespeare_recurrent_module,\n",
        "    script=False\n",
        "\n",
        ")\n",
        "shakespeare_model.load_state_dict(torch.load(\"shakespeare_model.pt\"))\n",
        "daily_dialog_model = create_model(\n",
        "    vocab_size=tokenizer.get_vocab_size(),\n",
        "    parameters=parameters,\n",
        "    model_type=daily_dialog_recurrent_module,\n",
        "    script=False\n",
        "\n",
        ")\n",
        "daily_dialog_model.load_state_dict(torch.load(\"daily_dialog_model.pt\"))"
      ]
    },
    {
      "cell_type": "markdown",
      "metadata": {
        "id": "-Lpm1Upkc9wE"
      },
      "source": [
        "## Test model by perplexity on datasets"
      ]
    },
    {
      "cell_type": "code",
      "execution_count": 66,
      "metadata": {
        "id": "phRC2noyc9wE",
        "colab": {
          "base_uri": "https://localhost:8080/"
        },
        "outputId": "770509bb-c997-486a-c278-88c5f2a7b402"
      },
      "outputs": [
        {
          "output_type": "stream",
          "name": "stdout",
          "text": [
            "shakespeare_train perplexity for shakespeare_model: 60.65964758061399\n",
            "daily_dialog_train perplexity for shakespeare_model: 25181.800815694354\n",
            "shakespeare_val perplexity for shakespeare_model: 214.64761653070724\n",
            "daily_dialog_val perplexity for shakespeare_model: 28546.4863633283\n",
            "shakespeare_train perplexity for daily_dialog_model: 20291.856016177244\n",
            "daily_dialog_train perplexity for daily_dialog_model: 49.096048875883014\n",
            "shakespeare_val perplexity for daily_dialog_model: 17309.180965540265\n",
            "daily_dialog_val perplexity for daily_dialog_model: 61.70532196569676\n"
          ]
        }
      ],
      "source": [
        "models = {\n",
        "    \"shakespeare_model\": shakespeare_model,\n",
        "    \"daily_dialog_model\": daily_dialog_model,\n",
        "}\n",
        "datasets = {\n",
        "    \"shakespeare_train\": shakespeare_train_tokens,\n",
        "    \"daily_dialog_train\": daily_dialog_train_tokens,\n",
        "    \"shakespeare_val\": shakespeare_val_tokens,\n",
        "    \"daily_dialog_val\": daily_dialog_val_tokens,\n",
        "}\n",
        "for model_name, model in models.items():\n",
        "    model.eval()\n",
        "    for dataset_name, dataset in datasets.items():\n",
        "        print(f\"{dataset_name} perplexity for {model_name}:\", end=\"\")\n",
        "        loss, ppl = evaluate(\n",
        "            model,\n",
        "            tokenizer.get_vocab_size(),\n",
        "            batchify(dataset, parameters.BATCH_SIZE).to(DEVICE),\n",
        "            parameters,\n",
        "        )\n",
        "        print(f\" {ppl}\")"
      ]
    },
    {
      "cell_type": "markdown",
      "metadata": {
        "id": "rnFmAhmbc9wE"
      },
      "source": [
        "## Test model by generating text"
      ]
    },
    {
      "cell_type": "code",
      "execution_count": 67,
      "metadata": {
        "id": "jmBwIn8sc9wE",
        "colab": {
          "base_uri": "https://localhost:8080/"
        },
        "outputId": "a6caa106-4d06-4508-9ba5-abc8fe75030f"
      },
      "outputs": [
        {
          "output_type": "stream",
          "name": "stdout",
          "text": [
            "thy garter whom you \n",
            " petruchio : thing that they when they i am a man : so child \n",
            " mariana : in shallow ' s women. \n",
            " narrator : enter hector and certain lords and s odds and s log it. \n",
            " king henry vi : no, patroclus, my lordl in the song, an cordelia \n",
            " kingush party in capulet orsino : i round on steel for cheap at soldiers and rome \n",
            " queen. an ass deliver you \n",
            " cardinal mowbray : sea capitnora o ' whole kin! \n",
            " earl of worcester : therefore now he of ours will, whilst it hath \n",
            " romeo : so ne ' er our court offence, was glad her judgments \n",
            " adriana : a rigorous arms i have wilt my mouth of ord ' d : \n",
            " talbot : but shall he all you lay and eat my heart \n",
            " alencon : and by our bourn, the dream of peers. \n",
            " narrator : re - enter king stanley cassius, bassianus, lavinia \n",
            " regan : [ within ] a, the gods drew that good the show\n"
          ]
        }
      ],
      "source": [
        "print(generate_text(\n",
        "    tokenizer,\n",
        "    shakespeare_model,\n",
        "    \"courage under this? Who else would dare\",\n",
        "    200,\n",
        "    by_prob=True,\n",
        "))"
      ]
    },
    {
      "cell_type": "code",
      "execution_count": 68,
      "metadata": {
        "id": "WOkfSYYmc9wE",
        "colab": {
          "base_uri": "https://localhost:8080/"
        },
        "outputId": "8a472239-fb16-4994-9ce8-e6287ed4b5d7"
      },
      "outputs": [
        {
          "output_type": "stream",
          "name": "stdout",
          "text": [
            "__eou__ david are human island. __eou__ i ’ ll pay the piano in few days. shall we have wi pieces to leave in this family? i meant to traveldling with vegetables for korea. an no hotel! __eou__ how expensive, you ’ re tie! __eou__ how many types often flesh, i put here from joining a small challenge. __eou__ ok. don ' t rest good new bulk. __eou__ will you take? in my country printed my famous salary ' s onous. __eou__ yeah are you a time. __eou__ \n",
            " what ' s your meals. __eou__ ok, would you put what? __eou__ i really do such your sense. __eou__ i ' m worrying you know. did you say you ' re - subway yesterday, please. __eou__ i ’ m already sure why i don ’ t feel. but not! __eou__ that ' s going that tickets at this time just well high sight before you must do. here is the sports and call the phone parlor work her better. __eou__ \n",
            " some figures with my\n"
          ]
        }
      ],
      "source": [
        "print(generate_text(\n",
        "    tokenizer,\n",
        "    daily_dialog_model,\n",
        "    \"Hey, Thomas, could you run by the airport to pick up Ms. Davis?\",\n",
        "    200,\n",
        "    by_prob=True,\n",
        "))"
      ]
    },
    {
      "cell_type": "markdown",
      "metadata": {
        "id": "qUeIBAeec9wE"
      },
      "source": [
        "## Classify text\n",
        "\n",
        "Language models can do more than just generating samples of similar text. They can also be used to classify text. We can do this by using the model to predict an \"emotion\" for each chunk of the `daily_dialog` dataset, then compare the predicted emotions to the labeled emotions from the dataset.\n",
        "\n",
        "### Prepare the dataset for classification\n",
        "\n",
        "First, we'll need to load the daily dialog dataset's emotion labels into a list of lists -- one list for every dialog, one entry for every utterance in the dialog. We'll also need to reload the text of the dataset, as we'll need to get the same list of lists pattern for the text."
      ]
    },
    {
      "cell_type": "markdown",
      "metadata": {
        "id": "KaNMMs2nc9wE"
      },
      "source": [
        "#### Load the emotions datasets"
      ]
    },
    {
      "cell_type": "code",
      "execution_count": 69,
      "metadata": {
        "id": "nJq0aqATc9wF"
      },
      "outputs": [],
      "source": [
        "def load_emotions_dataset(path: Union[str, Path]) -> List[int]:\n",
        "    \"\"\"Load the emotions dataset.\n",
        "\n",
        "    Args:\n",
        "        path (Union[str, Path]): The path to the emotions dataset.\n",
        "\n",
        "    Returns:\n",
        "        List[List[int]]: A list of lists of emotion IDs.\n",
        "    \"\"\"\n",
        "    with open(path, \"r\") as f:\n",
        "        return [int(emotion) for line in f.readlines() for emotion in line.split()]\n",
        "\n",
        "emotion_train = load_emotions_dataset(\"data/daily_dialog_train_emotion.txt\")\n",
        "emotion_val = load_emotions_dataset(\"data/daily_dialog_val_emotion.txt\")"
      ]
    },
    {
      "cell_type": "markdown",
      "metadata": {
        "id": "Da2QqL3jc9wF"
      },
      "source": [
        "#### Match the emotions to the text\n",
        "\n",
        "We know each emotion in the emotions datasets should correspond to one appearance of `__eou__` in the text dataset. We'll use this to match the emotions to the text."
      ]
    },
    {
      "cell_type": "code",
      "execution_count": 70,
      "metadata": {
        "id": "Ydi0eatZc9wF"
      },
      "outputs": [],
      "source": [
        "def scatter_emotions_to_text(text_tokens: Tensor, emotion_tokens: List[int]) -> Tensor:\n",
        "    # We'll return a tensor with the same shape as the text tokens but\n",
        "    # with nonzero values only where the `__eou__` tokens are. These\n",
        "    # nonzero values will be the corresponding emotion IDs.\n",
        "    result = torch.zeros_like(text_tokens, dtype=torch.uint8)\n",
        "    # Find the indices of the `__eou__` tokens\n",
        "    eou_indices = (text_tokens == tokenizer.get_vocab()[\"__eou__\"])\n",
        "    # Scatter the emotion IDs into the result tensor at the `__eou__` indices\n",
        "    result[eou_indices] = torch.tensor(emotion_tokens, dtype=torch.uint8)\n",
        "    return result\n",
        "\n",
        "emotion_train_tokens = scatter_emotions_to_text(daily_dialog_train_tokens, emotion_train)\n",
        "emotion_val_tokens = scatter_emotions_to_text(daily_dialog_val_tokens, emotion_val)"
      ]
    },
    {
      "cell_type": "markdown",
      "metadata": {
        "id": "nBEO2vChc9wF"
      },
      "source": [
        "### Replace the next-word prediction layer\n",
        "\n",
        "By replacing the next-word prediction layer with a classification layer, we can use the model to predict the emotion of each utterance in the dataset.\n",
        "\n",
        "We have 7 emotions in the dataset, so we'll need to replace the next-word prediction layer with a classification layer with 7 output units:\n",
        "\n",
        "0. `No Emotion` (or missing label)\n",
        "1. `Anger`\n",
        "2. `Disgust`\n",
        "3. `Fear`\n",
        "4. `Happiness`\n",
        "5. `Sadness`\n",
        "6. `Surprise`\n"
      ]
    },
    {
      "cell_type": "code",
      "execution_count": 71,
      "metadata": {
        "id": "h_Whb6Nqc9wF"
      },
      "outputs": [],
      "source": [
        "EMOTION_VOCAB_SIZE = 7"
      ]
    },
    {
      "cell_type": "code",
      "execution_count": 85,
      "metadata": {
        "id": "xjCSsRPCc9wF"
      },
      "outputs": [],
      "source": [
        "def create_fresh_emotion_classifier(\n",
        "    vocab_size: int,\n",
        "    parameters: Parameters,\n",
        "    model_type: Callable[..., Union[RNN, LSTM, GRU]],\n",
        ") -> RecurrentModel:\n",
        "    daily_dialog_model = create_model(\n",
        "        vocab_size=vocab_size,\n",
        "        parameters=parameters,\n",
        "        model_type=model_type,\n",
        "        script=False # We can't precompile the model if we're going to change it\n",
        "    )\n",
        "    daily_dialog_model.linear = Linear(parameters.HIDDEN_DIM, EMOTION_VOCAB_SIZE).to(DEVICE)\n",
        "    return daily_dialog_model\n",
        "\n",
        "def create_text_pretrained_emotion_classifier(\n",
        "    vocab_size: int,\n",
        "    parameters: Parameters,\n",
        "    model_type: Callable[..., Union[RNN, LSTM, GRU]],\n",
        ") -> RecurrentModel:\n",
        "    daily_dialog_model = create_model(\n",
        "        vocab_size=vocab_size,\n",
        "        parameters=parameters,\n",
        "        model_type=model_type,\n",
        "        script=False # We can't precompile the model if we're going to change it\n",
        "    )\n",
        "    daily_dialog_model.load_state_dict(torch.load(\"daily_dialog_model.pt\"))\n",
        "    daily_dialog_model.linear = Linear(parameters.HIDDEN_DIM, EMOTION_VOCAB_SIZE).to(DEVICE)\n",
        "    return daily_dialog_model\n"
      ]
    },
    {
      "cell_type": "markdown",
      "metadata": {
        "id": "Xbj44a0_c9wF"
      },
      "source": [
        "### Write our new training and evaluation functions\n",
        "\n",
        "These training functions are just like the ones we wrote for the language modeling task, but with a few key differences:\n",
        "\n",
        "* We now only count the loss when the input token is `__eou__`, as that is the only token that has a corresponding emotion label.\n",
        "* We now compute the accuracy of the model's predictions, as we can compare them to the emotion labels.\n",
        "  * This is instead of perplexity, as we are no longer predicting the next word in the sequence.\n",
        "\n",
        "Beyond these differences, the training functions are the same as before:\n",
        "\n",
        "- `train_epoch_classifier` trains the model for one epoch\n",
        "- `evaluate_classifier` evaluates the model on the validation set\n",
        "- `train_run_classifier` trains the model for all `EPOCHS` epochs and prints as it goes\n"
      ]
    },
    {
      "cell_type": "code",
      "execution_count": 73,
      "metadata": {
        "id": "RoAkO70gc9wF"
      },
      "outputs": [],
      "source": [
        "@torch.jit.script\n",
        "def get_classifier_batch(\n",
        "    source: Tensor,\n",
        "    emotions: Tensor,\n",
        "    i: int,\n",
        "    bptt: int\n",
        ") -> Tuple[Tensor, Tensor]:\n",
        "    \"\"\"\n",
        "    Args:\n",
        "        source: Tensor, shape [full_seq_len, batch_size]\n",
        "        emotions: Tensor, shape [full_seq_len, batch_size]\n",
        "        i: int\n",
        "\n",
        "    Returns:\n",
        "        tuple (data, target), where data has shape [seq_len, batch_size] and\n",
        "        target has shape [seq_len * batch_size]\n",
        "    \"\"\"\n",
        "    seq_len = min(bptt, len(source) - 1 - i)\n",
        "    data = source[i:i+seq_len]\n",
        "    target = emotions[i:i+seq_len].reshape(-1)\n",
        "    return data, target"
      ]
    },
    {
      "cell_type": "code",
      "execution_count": 74,
      "metadata": {
        "id": "aDGTxtxGc9wF"
      },
      "outputs": [],
      "source": [
        "def train_epoch_classifier(\n",
        "    model: RecurrentModel,\n",
        "    optimizer: torch.optim.Optimizer,\n",
        "    train_data: Tensor,\n",
        "    target_data: Tensor,\n",
        "    parameters: Parameters,\n",
        "    eou_token_id: int,\n",
        ") -> Tuple[float, float]:\n",
        "    \"\"\"Training function for our recurrent model.\n",
        "\n",
        "    Args:\n",
        "        model (RecurrentModel): The model to train.\n",
        "        optimizer (torch.optim.Optimizer): The optimizer to use.\n",
        "        train_data (Tensor): Batchified training data.\n",
        "        target_data (Tensor): Batchified target data.\n",
        "        parameters (Parameters): The model parameters.\n",
        "        eou_token_id (int): The ID of the `__eou__` token.\n",
        "    \"\"\"\n",
        "    # Turn on training mode which enables training-specific\n",
        "    # layer functionality (e.g. dropout)\n",
        "    model.train()\n",
        "\n",
        "    # Keep track of the loss as we go\n",
        "    total_loss: float = 0.0\n",
        "\n",
        "    # Keep track of the accuracy as we go\n",
        "    # TODO: Initialize variables to keep track of the accuracy here\n",
        "    total_correct = 0\n",
        "    total_attempts = 0\n",
        "    # Determine how many steps we'll need to cover the whole dataset\n",
        "    num_batches: int = len(train_data) // parameters.BPTT\n",
        "\n",
        "    # Keep track of the hidden state between batches.\n",
        "    state = None\n",
        "\n",
        "    # For each of our batches\n",
        "    for i in range(0, train_data.size(0) - 1, parameters.BPTT):\n",
        "        # Throw away gradients from previous step\n",
        "        optimizer.zero_grad()\n",
        "\n",
        "        # Get our input and target batches\n",
        "        data, targets = get_classifier_batch(\n",
        "            train_data, target_data, i, parameters.BPTT\n",
        "        )\n",
        "\n",
        "        # Evaluate the model to get logits and the new hidden state\n",
        "        output, state = model(data, state)\n",
        "\n",
        "        # Any tokens with an input token ID not of `__eou__` should be ignored\n",
        "        # in the loss. We'll create a mask to zero out the loss for these tokens.\n",
        "        mask = data.reshape(-1) == eou_token_id\n",
        "\n",
        "        # If the mask is all False, then we don't need to compute a loss\n",
        "        attempts = mask.sum().item()\n",
        "        if attempts == 0:\n",
        "            continue\n",
        "\n",
        "        # Compute the accuracy\n",
        "        correct = (output.argmax(dim=-1).reshape(-1)[mask] == targets[mask]).sum().item()\n",
        "        # TODO: Update the accuracy variables here\n",
        "\n",
        "        # Compute the loss\n",
        "        # Note that we're using the `reduction=\"none\"` argument here\n",
        "        # so that we can zero out the loss for tokens that are not\n",
        "        # `__eou__` tokens.\n",
        "        loss = torch.nn.functional.cross_entropy(\n",
        "            output.view(-1, EMOTION_VOCAB_SIZE), targets, reduction=\"none\"\n",
        "        )\n",
        "\n",
        "        # Now we do our own reduction.\n",
        "        loss = loss[mask].mean()\n",
        "\n",
        "        # Make sure the state does not carry gradients\n",
        "        # between batches so we avoid a runaway memory leak\n",
        "        model.detach_state_(state)\n",
        "\n",
        "        # Compute gradients\n",
        "        loss.backward()\n",
        "\n",
        "        # Clip the gradients to avoid exploding gradients\n",
        "        # (Ask us TAs if you're curious why this is necessary)\n",
        "        torch.nn.utils.clip_grad_norm_(model.parameters(), 0.5)\n",
        "\n",
        "        # Update the parameters\n",
        "        optimizer.step()\n",
        "\n",
        "        # Keep track of the loss\n",
        "        total_loss += loss.item()\n",
        "\n",
        "    # Return the average loss across batches\n",
        "    cur_loss = total_loss / num_batches\n",
        "    # and the accuracy\n",
        "    # TODO: Compute the accuracy here\n",
        "    accuracy = total_correct / total_attempts if total_attempts > 0 else 0.0\n",
        "    return cur_loss, accuracy"
      ]
    },
    {
      "cell_type": "code",
      "execution_count": 75,
      "metadata": {
        "id": "YTtQrVKMc9wF"
      },
      "outputs": [],
      "source": [
        "# @torch.jit.script # If you're having trouble with this function, try commenting out this line.\n",
        "def evaluate_classifier(\n",
        "    model: RecurrentModel,\n",
        "    val_data: Tensor,\n",
        "    target_data: Tensor,\n",
        "    parameters: Parameters,\n",
        "    eou_token_id: int,\n",
        "    emotion_vocab_size: int,\n",
        ") -> Tuple[float, float]:\n",
        "    \"\"\"Evaluate the perplexity of the model on the validation data.\n",
        "\n",
        "    Args:\n",
        "        model (RecurrentModel): The model to evaluate.\n",
        "        val_data (Tensor): Batchified validation data.\n",
        "\n",
        "    Returns:\n",
        "        float: The perplexity of the model on the validation data.\n",
        "    \"\"\"\n",
        "    # Keep track of the loss as we go\n",
        "    total_loss: float = 0.0\n",
        "\n",
        "    # Keep track of the accuracy as we go\n",
        "    # TODO: Initialize variables to keep track of the accuracy here\n",
        "    total_correct = 0\n",
        "    total_attempts = 0\n",
        "    # Determine how many steps we'll need to cover the whole dataset\n",
        "    num_batches: int = len(val_data) // parameters.BPTT\n",
        "\n",
        "    # Keep track of the hidden state between batches.\n",
        "    state = None\n",
        "    with torch.no_grad():  # No need to track gradients here, since we're not training\n",
        "        for i in range(0, val_data.size(0) - 1, parameters.BPTT):\n",
        "            # Get our input and target batches\n",
        "            data, targets = get_classifier_batch(val_data, target_data, i, parameters.BPTT)\n",
        "\n",
        "            # Evaluate the model to get logits and the new hidden state\n",
        "            output, state = model.forward(data, state)\n",
        "\n",
        "            # Compute our new mask\n",
        "            mask = data.reshape(-1) == eou_token_id\n",
        "\n",
        "            # If the mask is all False, then we don't need to compute a loss\n",
        "            attempts = mask.sum().item()\n",
        "            if attempts == 0:\n",
        "                continue\n",
        "\n",
        "            # Compute the accuracy\n",
        "            correct = (output.argmax(dim=-1).reshape(-1)[mask] == targets[mask]).sum().item()\n",
        "            # TODO: Update the accuracy variables here\n",
        "            total_correct += correct\n",
        "            total_attempts += attempts\n",
        "\n",
        "            # Compute the loss\n",
        "            # Note that we're using the `reduction=\"none\"` argument here\n",
        "            # so that we can zero out the loss for tokens that are not\n",
        "            # `__eou__` tokens.\n",
        "            loss = torch.nn.functional.cross_entropy(output.view(-1, emotion_vocab_size), targets, reduction=\"none\")\n",
        "            loss = loss[mask].mean() # Now we do our own reduction.\n",
        "\n",
        "            # Keep track of the total loss\n",
        "            total_loss += loss.item()\n",
        "\n",
        "    # Return the average loss across batches\n",
        "    cur_loss = total_loss / num_batches\n",
        "    # and the accuracy\n",
        "    # TODO: Compute the final accuracy here\n",
        "    accuracy = total_correct / total_attempts if total_attempts > 0 else 0.0\n",
        "    accuracy = total_correct / total_attempts\n",
        "    return cur_loss, accuracy"
      ]
    },
    {
      "cell_type": "code",
      "execution_count": 76,
      "metadata": {
        "id": "KB9_qt1Fc9wF"
      },
      "outputs": [],
      "source": [
        "def train_run_classifier(\n",
        "    model: RecurrentModel,\n",
        "    train_data: Tensor,\n",
        "    train_target_data: Tensor,\n",
        "    validation_data: Tensor,\n",
        "    validation_target_data: Tensor,\n",
        "    eou_token_id: int,\n",
        "    parameters: Parameters,\n",
        "    verbose: bool = True,\n",
        ") -> None:\n",
        "    \"\"\"Train a model for NUM_EPOCHS epochs.\"\"\"\n",
        "    # Here we define an optimizer and scheduler to use for training.\n",
        "    # An optimizer adjusts the parameters of the model based on the loss\n",
        "    # and the gradients of the parameters with respect to the loss.\n",
        "\n",
        "    # Adam is a popular optimizer that tends to work well in practice.\n",
        "    # optimizer = torch.optim.Adam(model.parameters(), lr=parameters.LR) # Set LR to about 0.005 to start\n",
        "\n",
        "    # AdamW corrects a minor flaw in the original Adam implementation\n",
        "    # allowing it to converge slightly better.\n",
        "    optimizer = torch.optim.AdamW(\n",
        "        model.parameters(), lr=parameters.LR\n",
        "    )  # Set LR to about 0.01\n",
        "\n",
        "    # SGD is the simple stochastic gradient descent algorithm,\n",
        "    # implemented as LR * gradient.\n",
        "    # Notably, the RNNs shown here need a strong learning rate to\n",
        "    # even begin to move the loss, so we start with a high LR.\n",
        "    # optimizer = torch.optim.SGD(model.parameters(), lr=parameters.LR) # Set LR to about 10.0 to start\n",
        "\n",
        "    # The scheduler adjusts the learning rate over time.\n",
        "    # Here we use a scheduler that decreases the learning rate\n",
        "    # by a factor of 0.5 if the training loss doesn't decrease\n",
        "    # for two epochs in a row.\n",
        "    # This makes sure that the model can converge down into a\n",
        "    # minimum once it finds one, instead of bouncing around.\n",
        "    scheduler = torch.optim.lr_scheduler.ReduceLROnPlateau(\n",
        "        optimizer, factor=0.5, patience=1, threshold=1e-3\n",
        "    )\n",
        "\n",
        "    # Train for NUM_EPOCHS epochs\n",
        "    for epoch in range(1, parameters.EPOCHS + 1, 1):\n",
        "        if verbose:\n",
        "            # Print out an initial message stating the epoch number\n",
        "            # and learning rate\n",
        "            lrs = [group[\"lr\"] for group in optimizer.param_groups]\n",
        "            lr = lrs[0] if len(lrs) > 0 else -1\n",
        "            # The end='' argument tells Python not to print a newline\n",
        "            # so we can extend this row with more information\n",
        "            # as we compute it.\n",
        "            print(f\"| epoch {epoch:3d} | lr {lr:05.5f} | \", end=\"\")\n",
        "\n",
        "        # Train for one epoch\n",
        "        loss, acc = train_epoch_classifier(\n",
        "            model,\n",
        "            optimizer,\n",
        "            train_data,\n",
        "            train_target_data,\n",
        "            eou_token_id=eou_token_id,\n",
        "            parameters=parameters,\n",
        "        )\n",
        "\n",
        "        # Update the learning rate\n",
        "        scheduler.step(loss)\n",
        "        # Note that we can move this line after the validation step\n",
        "        # if we want to update the learning rate based on the val\n",
        "        # loss instead of the training loss.\n",
        "\n",
        "        if verbose:\n",
        "            # Update the printed row with the training loss and perplexity\n",
        "            # so that the user knows the training step completed and that\n",
        "            # we're now evaluating on the validation set.\n",
        "            print(f\"train loss {loss:5.4f} | train acc {acc*100:5.2f} | \", end=\"\")\n",
        "\n",
        "        # Evaluate on the validation set\n",
        "        model.eval()\n",
        "        val_loss, val_acc = evaluate_classifier(\n",
        "            model,\n",
        "            validation_data,\n",
        "            validation_target_data,\n",
        "            eou_token_id=eou_token_id,\n",
        "            parameters=parameters,\n",
        "            emotion_vocab_size=EMOTION_VOCAB_SIZE,\n",
        "        )\n",
        "\n",
        "        if verbose:\n",
        "            # Update the printed row with the validation loss and perplexity\n",
        "            print(f\"val loss {val_loss:5.4f} | val acc {val_acc*100:5.2f} |\")\n",
        "            # We no longer have the end='' argument, so this completes the line."
      ]
    },
    {
      "cell_type": "code",
      "execution_count": 77,
      "metadata": {
        "id": "vTlLWpKvc9wF"
      },
      "outputs": [],
      "source": [
        "def train_model_classifier(\n",
        "    model: RecurrentModel,\n",
        "    unbatched_train_data: Tensor,\n",
        "    unbatched_train_target_data: Tensor,\n",
        "    unbatched_validation_data: Tensor,\n",
        "    unbatched_validation_target_data: Tensor,\n",
        "    eou_token_id: int,\n",
        "    parameters: Parameters,\n",
        "    verbose: bool = True,\n",
        ") -> None:\n",
        "    if verbose:\n",
        "        print(\n",
        "            f\"The shape of the training data is {unbatched_train_data.shape} and {unbatched_train_target_data.shape}.\"\n",
        "        )\n",
        "    batched_training_data = batchify(\n",
        "        unbatched_train_data, parameters.BATCH_SIZE\n",
        "    ).to(DEVICE)\n",
        "    batched_training_target_data = batchify(\n",
        "        unbatched_train_target_data, parameters.BATCH_SIZE\n",
        "    ).to(DEVICE)\n",
        "    if verbose:\n",
        "        print(\n",
        "            f\"The shape of the batched training data is {batched_training_data.shape} and {batched_training_target_data.shape}.\"\n",
        "        )\n",
        "        print(\n",
        "            f\"The shape of the validation data is {unbatched_validation_data.shape} and {unbatched_validation_target_data.shape}.\"\n",
        "        )\n",
        "    batched_validation_data = batchify(\n",
        "        unbatched_validation_data, parameters.BATCH_SIZE\n",
        "    ).to(DEVICE)\n",
        "    batched_validation_target_data = batchify(\n",
        "        unbatched_validation_target_data, parameters.BATCH_SIZE\n",
        "    ).to(DEVICE)\n",
        "    if verbose:\n",
        "        print(\n",
        "            f\"The shape of the batched validation data is {batched_validation_data.shape} and {batched_validation_target_data.shape}.\"\n",
        "        )\n",
        "\n",
        "    train_run_classifier(\n",
        "        model,\n",
        "        batched_training_data,\n",
        "        batched_training_target_data,\n",
        "        batched_validation_data,\n",
        "        batched_validation_target_data,\n",
        "        eou_token_id=eou_token_id,\n",
        "        parameters=parameters,\n",
        "        verbose=verbose,\n",
        "    )\n",
        "    return model"
      ]
    },
    {
      "cell_type": "markdown",
      "metadata": {
        "id": "kF0yvT1Uc9wF"
      },
      "source": [
        "### Run model building experiments"
      ]
    },
    {
      "cell_type": "code",
      "execution_count": 78,
      "metadata": {
        "id": "qsggLCmGc9wG"
      },
      "outputs": [],
      "source": [
        "# Redefine the parameters object so you can play with them, if desired.\n",
        "# When training the classifier, as we're only including some tokens in the loss,\n",
        "# the calculations are less intensive and we can support a larger batch size.\n",
        "# You may also want to play with Learning Rate.\n",
        "classifier_parameters = Parameters(\n",
        "    BATCH_SIZE=4*parameters.BATCH_SIZE,\n",
        "    BPTT=parameters.BPTT,\n",
        "    LR=parameters.LR,\n",
        "    EPOCHS=2*parameters.EPOCHS,\n",
        "    EMBEDDING_DIM=parameters.EMBEDDING_DIM,\n",
        "    HIDDEN_DIM=parameters.HIDDEN_DIM,\n",
        "    NUM_LAYERS=parameters.NUM_LAYERS,\n",
        ")\n"
      ]
    },
    {
      "cell_type": "code",
      "execution_count": 83,
      "metadata": {
        "id": "yvruyfcwc9wG",
        "colab": {
          "base_uri": "https://localhost:8080/"
        },
        "outputId": "f1faeb04-c11f-46eb-f79b-17e6c242094f"
      },
      "outputs": [
        {
          "output_type": "stream",
          "name": "stdout",
          "text": [
            "The shape of the training data is torch.Size([1375910]) and torch.Size([1375910]).\n",
            "The shape of the batched training data is torch.Size([10749, 128]) and torch.Size([10749, 128]).\n",
            "The shape of the validation data is torch.Size([126932]) and torch.Size([126932]).\n",
            "The shape of the batched validation data is torch.Size([991, 128]) and torch.Size([991, 128]).\n",
            "| epoch   1 | lr 0.01000 | train loss 0.6211 | train acc  0.00 | val loss 0.4813 | val acc 84.56 |\n",
            "| epoch   2 | lr 0.01000 | train loss 0.5441 | train acc  0.00 | val loss 0.4449 | val acc 88.97 |\n",
            "| epoch   3 | lr 0.01000 | train loss 0.5218 | train acc  0.00 | val loss 0.4386 | val acc 88.31 |\n",
            "| epoch   4 | lr 0.01000 | train loss 0.5079 | train acc  0.00 | val loss 0.4466 | val acc 88.17 |\n",
            "| epoch   5 | lr 0.01000 | train loss 0.4963 | train acc  0.00 | val loss 0.4405 | val acc 87.63 |\n",
            "| epoch   6 | lr 0.01000 | train loss 0.4912 | train acc  0.00 | val loss 0.4475 | val acc 87.76 |\n",
            "| epoch   7 | lr 0.01000 | train loss 0.4884 | train acc  0.00 | val loss 0.4169 | val acc 88.16 |\n",
            "| epoch   8 | lr 0.01000 | train loss 0.4916 | train acc  0.00 | val loss 0.4175 | val acc 88.37 |\n",
            "| epoch   9 | lr 0.01000 | train loss 0.4828 | train acc  0.00 | val loss 0.4238 | val acc 88.45 |\n",
            "| epoch  10 | lr 0.01000 | train loss 0.4789 | train acc  0.00 | val loss 0.4116 | val acc 88.61 |\n",
            "| epoch  11 | lr 0.01000 | train loss 0.4754 | train acc  0.00 | val loss 0.4059 | val acc 88.78 |\n",
            "| epoch  12 | lr 0.01000 | train loss 0.4736 | train acc  0.00 | val loss 0.3929 | val acc 88.86 |\n",
            "| epoch  13 | lr 0.01000 | train loss 0.4734 | train acc  0.00 | val loss 0.3987 | val acc 88.53 |\n",
            "| epoch  14 | lr 0.01000 | train loss 0.4685 | train acc  0.00 | val loss 0.4154 | val acc 87.97 |\n",
            "| epoch  15 | lr 0.01000 | train loss 0.4662 | train acc  0.00 | val loss 0.3968 | val acc 87.90 |\n",
            "| epoch  16 | lr 0.01000 | train loss 0.4647 | train acc  0.00 | val loss 0.4071 | val acc 88.41 |\n",
            "| epoch  17 | lr 0.01000 | train loss 0.4675 | train acc  0.00 | val loss 0.4068 | val acc 88.15 |\n",
            "| epoch  18 | lr 0.01000 | train loss 0.4634 | train acc  0.00 | val loss 0.4002 | val acc 88.43 |\n",
            "| epoch  19 | lr 0.01000 | train loss 0.4680 | train acc  0.00 | val loss 0.4259 | val acc 87.45 |\n",
            "| epoch  20 | lr 0.01000 | train loss 0.4707 | train acc  0.00 | val loss 0.4130 | val acc 88.51 |\n",
            "| epoch  21 | lr 0.00500 | train loss 0.4618 | train acc  0.00 | val loss 0.3916 | val acc 88.78 |\n",
            "| epoch  22 | lr 0.00500 | train loss 0.4567 | train acc  0.00 | val loss 0.3928 | val acc 88.26 |\n",
            "| epoch  23 | lr 0.00500 | train loss 0.4491 | train acc  0.00 | val loss 0.3868 | val acc 88.73 |\n",
            "| epoch  24 | lr 0.00500 | train loss 0.4425 | train acc  0.00 | val loss 0.3941 | val acc 88.11 |\n",
            "| epoch  25 | lr 0.00500 | train loss 0.4420 | train acc  0.00 | val loss 0.3901 | val acc 88.61 |\n",
            "| epoch  26 | lr 0.00500 | train loss 0.4398 | train acc  0.00 | val loss 0.3916 | val acc 88.43 |\n",
            "| epoch  27 | lr 0.00500 | train loss 0.4370 | train acc  0.00 | val loss 0.3929 | val acc 88.81 |\n",
            "| epoch  28 | lr 0.00500 | train loss 0.4327 | train acc  0.00 | val loss 0.3924 | val acc 88.53 |\n",
            "| epoch  29 | lr 0.00500 | train loss 0.4314 | train acc  0.00 | val loss 0.3892 | val acc 88.46 |\n",
            "| epoch  30 | lr 0.00500 | train loss 0.4249 | train acc  0.00 | val loss 0.3914 | val acc 88.88 |\n",
            "| epoch  31 | lr 0.00500 | train loss 0.4261 | train acc  0.00 | val loss 0.4022 | val acc 87.41 |\n",
            "| epoch  32 | lr 0.00500 | train loss 0.4240 | train acc  0.00 | val loss 0.3972 | val acc 88.14 |\n",
            "| epoch  33 | lr 0.00500 | train loss 0.4196 | train acc  0.00 | val loss 0.3914 | val acc 88.31 |\n",
            "| epoch  34 | lr 0.00500 | train loss 0.4198 | train acc  0.00 | val loss 0.3989 | val acc 88.47 |\n",
            "| epoch  35 | lr 0.00500 | train loss 0.4212 | train acc  0.00 | val loss 0.3887 | val acc 89.17 |\n",
            "| epoch  36 | lr 0.00250 | train loss 0.4116 | train acc  0.00 | val loss 0.3835 | val acc 89.15 |\n",
            "| epoch  37 | lr 0.00250 | train loss 0.4049 | train acc  0.00 | val loss 0.3849 | val acc 88.99 |\n",
            "| epoch  38 | lr 0.00250 | train loss 0.4020 | train acc  0.00 | val loss 0.3840 | val acc 88.97 |\n",
            "| epoch  39 | lr 0.00250 | train loss 0.3994 | train acc  0.00 | val loss 0.3856 | val acc 88.89 |\n",
            "| epoch  40 | lr 0.00250 | train loss 0.3966 | train acc  0.00 | val loss 0.3875 | val acc 88.81 |\n",
            "| epoch  41 | lr 0.00250 | train loss 0.3941 | train acc  0.00 | val loss 0.3893 | val acc 89.08 |\n",
            "| epoch  42 | lr 0.00250 | train loss 0.3924 | train acc  0.00 | val loss 0.3905 | val acc 88.98 |\n",
            "| epoch  43 | lr 0.00250 | train loss 0.3910 | train acc  0.00 | val loss 0.3869 | val acc 89.07 |\n",
            "| epoch  44 | lr 0.00250 | train loss 0.3883 | train acc  0.00 | val loss 0.3900 | val acc 88.89 |\n",
            "| epoch  45 | lr 0.00250 | train loss 0.3880 | train acc  0.00 | val loss 0.3903 | val acc 88.94 |\n",
            "| epoch  46 | lr 0.00250 | train loss 0.3847 | train acc  0.00 | val loss 0.3906 | val acc 88.83 |\n",
            "| epoch  47 | lr 0.00250 | train loss 0.3838 | train acc  0.00 | val loss 0.3922 | val acc 88.94 |\n",
            "| epoch  48 | lr 0.00250 | train loss 0.3854 | train acc  0.00 | val loss 0.3910 | val acc 88.86 |\n",
            "| epoch  49 | lr 0.00250 | train loss 0.3817 | train acc  0.00 | val loss 0.3943 | val acc 88.77 |\n",
            "| epoch  50 | lr 0.00250 | train loss 0.3808 | train acc  0.00 | val loss 0.3934 | val acc 88.87 |\n",
            "| epoch  51 | lr 0.00250 | train loss 0.3771 | train acc  0.00 | val loss 0.3935 | val acc 88.96 |\n",
            "| epoch  52 | lr 0.00250 | train loss 0.3767 | train acc  0.00 | val loss 0.3965 | val acc 88.77 |\n",
            "| epoch  53 | lr 0.00250 | train loss 0.3755 | train acc  0.00 | val loss 0.3948 | val acc 88.86 |\n",
            "| epoch  54 | lr 0.00250 | train loss 0.3751 | train acc  0.00 | val loss 0.3914 | val acc 88.92 |\n",
            "| epoch  55 | lr 0.00250 | train loss 0.3744 | train acc  0.00 | val loss 0.3926 | val acc 88.92 |\n",
            "| epoch  56 | lr 0.00250 | train loss 0.3726 | train acc  0.00 | val loss 0.3949 | val acc 88.86 |\n",
            "| epoch  57 | lr 0.00250 | train loss 0.3696 | train acc  0.00 | val loss 0.3942 | val acc 88.83 |\n",
            "| epoch  58 | lr 0.00250 | train loss 0.3695 | train acc  0.00 | val loss 0.3958 | val acc 88.77 |\n",
            "| epoch  59 | lr 0.00250 | train loss 0.3667 | train acc  0.00 | val loss 0.3992 | val acc 88.53 |\n",
            "| epoch  60 | lr 0.00250 | train loss 0.3659 | train acc  0.00 | val loss 0.3940 | val acc 88.87 |\n"
          ]
        },
        {
          "output_type": "execute_result",
          "data": {
            "text/plain": [
              "RecurrentModel(\n",
              "  (embedding): Embedding(20001, 24)\n",
              "  (rnn): RNN(24, 24, num_layers=3)\n",
              "  (linear): Linear(in_features=24, out_features=7, bias=True)\n",
              ")"
            ]
          },
          "metadata": {},
          "execution_count": 83
        }
      ],
      "source": [
        "fresh_classifier_model = create_fresh_emotion_classifier(\n",
        "    vocab_size=tokenizer.get_vocab_size(),\n",
        "    parameters=classifier_parameters,\n",
        "    model_type=daily_dialog_recurrent_module,\n",
        ")\n",
        "train_model_classifier(\n",
        "    fresh_classifier_model,\n",
        "    daily_dialog_train_tokens,\n",
        "    emotion_train_tokens,\n",
        "    daily_dialog_val_tokens,\n",
        "    emotion_val_tokens,\n",
        "    eou_token_id=tokenizer.token_to_id(\"__eou__\"),\n",
        "    parameters=classifier_parameters,\n",
        ")"
      ]
    },
    {
      "cell_type": "code",
      "execution_count": 86,
      "metadata": {
        "id": "Ndn9yhTfc9wG",
        "colab": {
          "base_uri": "https://localhost:8080/"
        },
        "outputId": "7a7f5213-c96b-48b7-c6fe-2369ecab9723"
      },
      "outputs": [
        {
          "output_type": "stream",
          "name": "stderr",
          "text": [
            "<ipython-input-85-445e9ff8b2ad>:26: FutureWarning: You are using `torch.load` with `weights_only=False` (the current default value), which uses the default pickle module implicitly. It is possible to construct malicious pickle data which will execute arbitrary code during unpickling (See https://github.com/pytorch/pytorch/blob/main/SECURITY.md#untrusted-models for more details). In a future release, the default value for `weights_only` will be flipped to `True`. This limits the functions that could be executed during unpickling. Arbitrary objects will no longer be allowed to be loaded via this mode unless they are explicitly allowlisted by the user via `torch.serialization.add_safe_globals`. We recommend you start setting `weights_only=True` for any use case where you don't have full control of the loaded file. Please open an issue on GitHub for any issues related to this experimental feature.\n",
            "  daily_dialog_model.load_state_dict(torch.load(\"daily_dialog_model.pt\"))\n"
          ]
        },
        {
          "output_type": "stream",
          "name": "stdout",
          "text": [
            "The shape of the training data is torch.Size([1375910]) and torch.Size([1375910]).\n",
            "The shape of the batched training data is torch.Size([10749, 128]) and torch.Size([10749, 128]).\n",
            "The shape of the validation data is torch.Size([126932]) and torch.Size([126932]).\n",
            "The shape of the batched validation data is torch.Size([991, 128]) and torch.Size([991, 128]).\n",
            "| epoch   1 | lr 0.01000 | train loss 0.6327 | train acc  0.00 | val loss 0.4851 | val acc 88.10 |\n",
            "| epoch   2 | lr 0.01000 | train loss 0.5828 | train acc  0.00 | val loss 0.4491 | val acc 88.10 |\n",
            "| epoch   3 | lr 0.01000 | train loss 0.5648 | train acc  0.00 | val loss 0.4841 | val acc 85.12 |\n",
            "| epoch   4 | lr 0.01000 | train loss 0.5427 | train acc  0.00 | val loss 0.4155 | val acc 89.25 |\n",
            "| epoch   5 | lr 0.01000 | train loss 0.5356 | train acc  0.00 | val loss 0.4386 | val acc 88.57 |\n",
            "| epoch   6 | lr 0.01000 | train loss 0.5367 | train acc  0.00 | val loss 0.4304 | val acc 88.42 |\n",
            "| epoch   7 | lr 0.01000 | train loss 0.5160 | train acc  0.00 | val loss 0.4367 | val acc 88.73 |\n",
            "| epoch   8 | lr 0.01000 | train loss 0.5092 | train acc  0.00 | val loss 0.4180 | val acc 88.02 |\n",
            "| epoch   9 | lr 0.01000 | train loss 0.5072 | train acc  0.00 | val loss 0.4456 | val acc 87.02 |\n",
            "| epoch  10 | lr 0.01000 | train loss 0.5025 | train acc  0.00 | val loss 0.3960 | val acc 88.45 |\n",
            "| epoch  11 | lr 0.01000 | train loss 0.5011 | train acc  0.00 | val loss 0.4511 | val acc 88.07 |\n",
            "| epoch  12 | lr 0.01000 | train loss 0.5041 | train acc  0.00 | val loss 0.4200 | val acc 88.41 |\n",
            "| epoch  13 | lr 0.01000 | train loss 0.4970 | train acc  0.00 | val loss 0.4063 | val acc 88.31 |\n",
            "| epoch  14 | lr 0.01000 | train loss 0.4934 | train acc  0.00 | val loss 0.4215 | val acc 88.62 |\n",
            "| epoch  15 | lr 0.01000 | train loss 0.5031 | train acc  0.00 | val loss 0.4197 | val acc 88.23 |\n",
            "| epoch  16 | lr 0.01000 | train loss 0.5018 | train acc  0.00 | val loss 0.4080 | val acc 88.32 |\n",
            "| epoch  17 | lr 0.00500 | train loss 0.4891 | train acc  0.00 | val loss 0.4189 | val acc 88.72 |\n",
            "| epoch  18 | lr 0.00500 | train loss 0.4907 | train acc  0.00 | val loss 0.3975 | val acc 88.79 |\n",
            "| epoch  19 | lr 0.00500 | train loss 0.4816 | train acc  0.00 | val loss 0.3915 | val acc 88.42 |\n",
            "| epoch  20 | lr 0.00500 | train loss 0.4707 | train acc  0.00 | val loss 0.3846 | val acc 88.47 |\n",
            "| epoch  21 | lr 0.00500 | train loss 0.4648 | train acc  0.00 | val loss 0.3954 | val acc 89.19 |\n",
            "| epoch  22 | lr 0.00500 | train loss 0.4612 | train acc  0.00 | val loss 0.3958 | val acc 88.83 |\n",
            "| epoch  23 | lr 0.00500 | train loss 0.4562 | train acc  0.00 | val loss 0.3860 | val acc 88.88 |\n",
            "| epoch  24 | lr 0.00500 | train loss 0.4502 | train acc  0.00 | val loss 0.3802 | val acc 88.84 |\n",
            "| epoch  25 | lr 0.00500 | train loss 0.4478 | train acc  0.00 | val loss 0.3799 | val acc 88.69 |\n",
            "| epoch  26 | lr 0.00500 | train loss 0.4443 | train acc  0.00 | val loss 0.3855 | val acc 88.32 |\n",
            "| epoch  27 | lr 0.00500 | train loss 0.4405 | train acc  0.00 | val loss 0.3757 | val acc 89.05 |\n",
            "| epoch  28 | lr 0.00500 | train loss 0.4404 | train acc  0.00 | val loss 0.3826 | val acc 88.83 |\n",
            "| epoch  29 | lr 0.00500 | train loss 0.4339 | train acc  0.00 | val loss 0.3850 | val acc 88.46 |\n",
            "| epoch  30 | lr 0.00500 | train loss 0.4335 | train acc  0.00 | val loss 0.3841 | val acc 88.77 |\n",
            "| epoch  31 | lr 0.00500 | train loss 0.4400 | train acc  0.00 | val loss 0.3829 | val acc 88.28 |\n",
            "| epoch  32 | lr 0.00250 | train loss 0.4264 | train acc  0.00 | val loss 0.3762 | val acc 88.83 |\n",
            "| epoch  33 | lr 0.00250 | train loss 0.4177 | train acc  0.00 | val loss 0.3775 | val acc 88.99 |\n",
            "| epoch  34 | lr 0.00250 | train loss 0.4115 | train acc  0.00 | val loss 0.3821 | val acc 88.87 |\n",
            "| epoch  35 | lr 0.00250 | train loss 0.4093 | train acc  0.00 | val loss 0.3769 | val acc 88.99 |\n",
            "| epoch  36 | lr 0.00250 | train loss 0.4056 | train acc  0.00 | val loss 0.3821 | val acc 88.71 |\n",
            "| epoch  37 | lr 0.00250 | train loss 0.4038 | train acc  0.00 | val loss 0.3814 | val acc 88.41 |\n",
            "| epoch  38 | lr 0.00250 | train loss 0.3994 | train acc  0.00 | val loss 0.3786 | val acc 88.86 |\n",
            "| epoch  39 | lr 0.00250 | train loss 0.3949 | train acc  0.00 | val loss 0.3773 | val acc 88.89 |\n",
            "| epoch  40 | lr 0.00250 | train loss 0.3915 | train acc  0.00 | val loss 0.3833 | val acc 88.37 |\n",
            "| epoch  41 | lr 0.00250 | train loss 0.3919 | train acc  0.00 | val loss 0.3828 | val acc 88.52 |\n",
            "| epoch  42 | lr 0.00250 | train loss 0.3876 | train acc  0.00 | val loss 0.3751 | val acc 89.18 |\n",
            "| epoch  43 | lr 0.00250 | train loss 0.3869 | train acc  0.00 | val loss 0.3743 | val acc 89.12 |\n",
            "| epoch  44 | lr 0.00250 | train loss 0.3830 | train acc  0.00 | val loss 0.3828 | val acc 88.50 |\n",
            "| epoch  45 | lr 0.00250 | train loss 0.3785 | train acc  0.00 | val loss 0.3855 | val acc 88.43 |\n",
            "| epoch  46 | lr 0.00250 | train loss 0.3791 | train acc  0.00 | val loss 0.3879 | val acc 88.46 |\n",
            "| epoch  47 | lr 0.00250 | train loss 0.3791 | train acc  0.00 | val loss 0.3855 | val acc 88.22 |\n",
            "| epoch  48 | lr 0.00125 | train loss 0.3737 | train acc  0.00 | val loss 0.3838 | val acc 88.72 |\n",
            "| epoch  49 | lr 0.00125 | train loss 0.3680 | train acc  0.00 | val loss 0.3871 | val acc 88.58 |\n",
            "| epoch  50 | lr 0.00125 | train loss 0.3679 | train acc  0.00 | val loss 0.3793 | val acc 88.88 |\n",
            "| epoch  51 | lr 0.00125 | train loss 0.3678 | train acc  0.00 | val loss 0.3868 | val acc 88.42 |\n",
            "| epoch  52 | lr 0.00063 | train loss 0.3630 | train acc  0.00 | val loss 0.3822 | val acc 88.48 |\n",
            "| epoch  53 | lr 0.00063 | train loss 0.3586 | train acc  0.00 | val loss 0.3808 | val acc 88.46 |\n",
            "| epoch  54 | lr 0.00063 | train loss 0.3564 | train acc  0.00 | val loss 0.3828 | val acc 88.68 |\n",
            "| epoch  55 | lr 0.00063 | train loss 0.3543 | train acc  0.00 | val loss 0.3875 | val acc 88.37 |\n",
            "| epoch  56 | lr 0.00063 | train loss 0.3520 | train acc  0.00 | val loss 0.3846 | val acc 88.66 |\n",
            "| epoch  57 | lr 0.00063 | train loss 0.3512 | train acc  0.00 | val loss 0.3872 | val acc 88.43 |\n",
            "| epoch  58 | lr 0.00063 | train loss 0.3504 | train acc  0.00 | val loss 0.3877 | val acc 88.41 |\n",
            "| epoch  59 | lr 0.00063 | train loss 0.3493 | train acc  0.00 | val loss 0.3869 | val acc 88.40 |\n",
            "| epoch  60 | lr 0.00063 | train loss 0.3479 | train acc  0.00 | val loss 0.3885 | val acc 88.43 |\n"
          ]
        },
        {
          "output_type": "execute_result",
          "data": {
            "text/plain": [
              "RecurrentModel(\n",
              "  (embedding): Embedding(20001, 24)\n",
              "  (rnn): RNN(24, 24, num_layers=3)\n",
              "  (linear): Linear(in_features=24, out_features=7, bias=True)\n",
              ")"
            ]
          },
          "metadata": {},
          "execution_count": 86
        }
      ],
      "source": [
        "text_pretrained_classifier_model = create_text_pretrained_emotion_classifier(\n",
        "    vocab_size=tokenizer.get_vocab_size(),\n",
        "    parameters=classifier_parameters,\n",
        "    model_type=daily_dialog_recurrent_module,\n",
        ")\n",
        "train_model_classifier(\n",
        "    text_pretrained_classifier_model,\n",
        "    daily_dialog_train_tokens,\n",
        "    emotion_train_tokens,\n",
        "    daily_dialog_val_tokens,\n",
        "    emotion_val_tokens,\n",
        "    eou_token_id=tokenizer.token_to_id(\"__eou__\"),\n",
        "    parameters=classifier_parameters,\n",
        ")"
      ]
    },
    {
      "cell_type": "markdown",
      "metadata": {
        "id": "SIF6RpNCc9wG"
      },
      "source": [
        "## Evaluate model performance\n",
        "\n",
        "A key step in model building is evaluating the model is actually learning the problem we want it to learn, rather than discovering a bias in the data. We can do this by evaluating properties of the model's predictions, such as per class accuracy and confusion matrices.\n",
        "\n",
        "First, we'll need to write a function to get the model's predictions for a tokenized dataset."
      ]
    },
    {
      "cell_type": "code",
      "execution_count": 87,
      "metadata": {
        "id": "Rayi2yUmc9wG"
      },
      "outputs": [],
      "source": [
        "def predict_emotions(model: RecurrentModel, input: Tensor, eou_token_id: int, bptt: int) -> List[int]:\n",
        "    \"\"\"Predict the emotions of a text in the `daily_dialog` format.\n",
        "\n",
        "    Args:\n",
        "        model (RecurrentModel): The emotion classifier.\n",
        "        input (Tensor): The text to predict the emotions of.\n",
        "        batch_size (int): The batch size to use during processing.\n",
        "\n",
        "    Returns:\n",
        "        List[int]: The predicted emotion IDs.\n",
        "    \"\"\"\n",
        "    # We need to use a batch size of 1 here because we need to ensure\n",
        "    # no tokens are ignored when computing our predictions.\n",
        "    batch_size = 1\n",
        "\n",
        "    with torch.no_grad():  # Disable gradient calculation while not training\n",
        "\n",
        "        # Process our input text\n",
        "        batched_input = batchify(input, batch_size).to(DEVICE)\n",
        "\n",
        "        # Keep a list of the predicted emotions\n",
        "        predicted_emotions = []\n",
        "\n",
        "        # Keep track of the hidden state between batches.\n",
        "        state = None\n",
        "\n",
        "        # For each of our batches\n",
        "        for i in range(0, batched_input.size(0) - 1, bptt):\n",
        "            # Get our input batch\n",
        "            data = batched_input[i:i+bptt]\n",
        "\n",
        "            # Evaluate the model to get logits and the new hidden state\n",
        "            output, state = model.forward(data, state)\n",
        "\n",
        "            # Compute our mask to ignore tokens that are not `__eou__` tokens\n",
        "            mask = data.reshape(-1) == eou_token_id\n",
        "\n",
        "            # Get the predicted emotion for each token\n",
        "            predicted_emotions.extend(output.argmax(dim=-1).reshape(-1)[mask].cpu().tolist())\n",
        "\n",
        "    # Decode the generated tokens and return the result\n",
        "    return predicted_emotions"
      ]
    },
    {
      "cell_type": "code",
      "execution_count": 88,
      "metadata": {
        "id": "ylL4FXvjc9wG",
        "colab": {
          "base_uri": "https://localhost:8080/"
        },
        "outputId": "bd48de8d-42f6-4712-9f52-2afcdaf5144e"
      },
      "outputs": [
        {
          "output_type": "stream",
          "name": "stdout",
          "text": [
            "fresh_classifier_model 8069 predictions\n",
            "text_pretrained_classifier_model 8069 predictions\n"
          ]
        }
      ],
      "source": [
        "fresh_classifier_model.eval()\n",
        "fresh_classifier_model_predictions = predict_emotions(\n",
        "    fresh_classifier_model,\n",
        "    daily_dialog_val_tokens,\n",
        "    eou_token_id=tokenizer.token_to_id(\"__eou__\"),\n",
        "    bptt=parameters.BPTT,\n",
        ")\n",
        "print(\"fresh_classifier_model\", len(fresh_classifier_model_predictions), \"predictions\")\n",
        "text_pretrained_classifier_model.eval()\n",
        "text_pretrained_classifier_model_predictions = predict_emotions(\n",
        "    text_pretrained_classifier_model,\n",
        "    daily_dialog_val_tokens,\n",
        "    eou_token_id=tokenizer.token_to_id(\"__eou__\"),\n",
        "    bptt=parameters.BPTT,\n",
        ")\n",
        "print(\"text_pretrained_classifier_model\", len(text_pretrained_classifier_model_predictions), \"predictions\")"
      ]
    },
    {
      "cell_type": "markdown",
      "metadata": {
        "id": "enXICthoc9wG"
      },
      "source": [
        "### Per-class accuracy"
      ]
    },
    {
      "cell_type": "code",
      "execution_count": 89,
      "metadata": {
        "id": "lDzE9lzac9wG",
        "colab": {
          "base_uri": "https://localhost:8080/"
        },
        "outputId": "5c291efb-e8b7-4243-efcc-e33ce74a40d4"
      },
      "outputs": [
        {
          "output_type": "stream",
          "name": "stdout",
          "text": [
            "Dataset balance: {0: 0.8809022183665882, 4: 0.08476886850910893, 1: 0.009542694261990333, 5: 0.009790556450613459, 6: 0.013260627091337216, 3: 0.0013632420374271904, 2: 0.0003717932829346883}\n",
            "fresh_classifier_model per-class accuracies: {0: 95.82160945413618, 4: 50.146198830409354, 1: 9.090909090909092, 5: 2.5316455696202533, 6: 17.757009345794394, 3: 0.0, 2: 0.0}\n",
            "text_pretrained_classifier_model per-class accuracies: {0: 94.48508722566123, 4: 60.380116959064324, 1: 6.4935064935064934, 5: 0.0, 6: 14.018691588785046, 3: 0.0, 2: 0.0}\n"
          ]
        }
      ],
      "source": [
        "emotion_counts = Counter(emotion_val)\n",
        "\n",
        "def per_class_accuracy(\n",
        "    predicted_emotions: List[int], actual_emotions: List[int]\n",
        ") -> Dict[int, float]:\n",
        "    \"\"\"Compute the per-class accuracy of the predicted emotions.\n",
        "\n",
        "    Args:\n",
        "        predicted_emotions (List[int]): The predicted emotion IDs.\n",
        "        actual_emotions (List[int]): The actual emotion IDs.\n",
        "\n",
        "    Returns:\n",
        "        Dict[int, float]: A dictionary mapping emotion IDs to accuracies.\n",
        "    \"\"\"\n",
        "    # Create a dictionary mapping emotion IDs to the number of times\n",
        "    # we've seen that emotion ID in the actual emotions\n",
        "    # emotion_counts = Counter(actual_emotions)\n",
        "    # Moved this outside the function so we don't have to recompute it\n",
        "\n",
        "    # Create a dictionary mapping emotion IDs to the number of times\n",
        "    # we've seen that emotion ID in the actual emotions and predicted\n",
        "    # that emotion ID correctly\n",
        "    correct_counts = defaultdict(int)\n",
        "    for predicted, actual in zip(predicted_emotions, actual_emotions):\n",
        "        if predicted == actual:\n",
        "            correct_counts[actual] += 1\n",
        "\n",
        "    # Compute the accuracy for each emotion ID\n",
        "    accuracies = {}\n",
        "    for emotion, count in emotion_counts.items():\n",
        "        accuracies[emotion] = correct_counts[emotion]*100 / count\n",
        "\n",
        "    return accuracies\n",
        "\n",
        "total_values = len(emotion_val)\n",
        "print(\"Dataset balance:\", {k: v/total_values for k, v in emotion_counts.items()})\n",
        "\n",
        "fresh_classifier_model_accuracies = per_class_accuracy(\n",
        "    fresh_classifier_model_predictions, emotion_val\n",
        ")\n",
        "print(\"fresh_classifier_model per-class accuracies:\", fresh_classifier_model_accuracies)\n",
        "\n",
        "text_pretrained_classifier_model_accuracies = per_class_accuracy(\n",
        "    text_pretrained_classifier_model_predictions, emotion_val\n",
        ")\n",
        "print(\"text_pretrained_classifier_model per-class accuracies:\", text_pretrained_classifier_model_accuracies)"
      ]
    },
    {
      "cell_type": "markdown",
      "metadata": {
        "id": "1fAf_W0Hc9wG"
      },
      "source": [
        "### Confusion matrices"
      ]
    },
    {
      "cell_type": "code",
      "execution_count": 90,
      "metadata": {
        "id": "6spr_UjXc9wG",
        "colab": {
          "base_uri": "https://localhost:8080/"
        },
        "outputId": "767c48e1-e5c6-473c-8ad9-08eec1a66cb3"
      },
      "outputs": [
        {
          "output_type": "stream",
          "name": "stdout",
          "text": [
            "fresh_classifier_model confusion matrix:\n",
            "Predicted\\Actual\n",
            "            None   Anger Disgust    Fear   Happy     SadSurprise     Total\n",
            "None        6811      61       2      10     336      76      78      7374\n",
            "Anger          8       7       0       1       1       0       3        20\n",
            "Disgust        0       0       0       0       0       0       0         0\n",
            "Fear           0       0       0       0       0       0       0         0\n",
            "Happy        272       5       0       0     343       1       7       628\n",
            "Sad            5       1       0       0       0       2       0         8\n",
            "Surprise      12       3       1       0       4       0      19        39\n",
            "Total       7108      77       3      11     684      79     107\n",
            "\n",
            "text_pretrained_classifier_model confusion matrix:\n",
            "Predicted\\Actual\n",
            "            None   Anger Disgust    Fear   Happy     SadSurprise     Total\n",
            "None        6716      65       2      10     260      78      74      7205\n",
            "Anger          3       5       1       0       3       1       1        14\n",
            "Disgust        0       0       0       0       0       0       0         0\n",
            "Fear           0       0       0       0       0       0       0         0\n",
            "Happy        369       4       0       1     413       0      17       804\n",
            "Sad            0       0       0       0       0       0       0         0\n",
            "Surprise      20       3       0       0       8       0      15        46\n",
            "Total       7108      77       3      11     684      79     107\n"
          ]
        }
      ],
      "source": [
        "def create_confusion_matrix(\n",
        "    predict_emotions: List[int], actual_emotions: List[int]\n",
        ") -> List[List[int]]:\n",
        "    \"\"\"Create a confusion matrix of the predicted emotions.\n",
        "\n",
        "    Args:\n",
        "        predict_emotions (List[int]): The predicted emotion IDs.\n",
        "        actual_emotions (List[int]): The actual emotion IDs.\n",
        "\n",
        "    Returns:\n",
        "        List[List[int]]: A confusion matrix.\n",
        "    \"\"\"\n",
        "    matrix = [[0 for _ in range(EMOTION_VOCAB_SIZE)] for _ in range(EMOTION_VOCAB_SIZE)]\n",
        "    for predicted, actual in zip(predict_emotions, actual_emotions):\n",
        "        matrix[predicted][actual] += 1\n",
        "    return matrix\n",
        "\n",
        "def print_confusion_matrix(\n",
        "    matrix: List[List[int]],\n",
        "    emotion_vocab: List[str]\n",
        ") -> None:\n",
        "    \"\"\"Print a confusion matrix.\n",
        "\n",
        "    Args:\n",
        "        matrix (List[List[int]]): The confusion matrix.\n",
        "        emotion_vocab (Dict[str, int]): The emotion vocabulary.\n",
        "    \"\"\"\n",
        "    label_len = max(4,max(len(label) for label in emotion_vocab))\n",
        "    print(\"Predicted\\Actual\")\n",
        "    print(\" \"*label_len, end=\"\")\n",
        "    for emotion in emotion_vocab:\n",
        "        print(f\"{emotion:>{label_len}s}\", end=\"\")\n",
        "    print(f\"  {'Total':>{label_len}s}\")\n",
        "    for i, row in enumerate(matrix):\n",
        "        print(f\"{emotion_vocab[i]:{label_len}s}\", end=\"\")\n",
        "        for col in row:\n",
        "            print(f\"{col:{label_len}d}\", end=\"\")\n",
        "        print(\n",
        "            f\"  {sum(row):{label_len}d}\"\n",
        "        )\n",
        "\n",
        "    # Total row\n",
        "    print(f\"{'Total':{label_len}s}\", end=\"\")\n",
        "    for col in range(len(matrix[0])):\n",
        "        print(f\"{sum(row[col] for row in matrix):{label_len}d}\", end=\"\")\n",
        "    print()\n",
        "\n",
        "emotion_vocab = [\"None\", \"Anger\", \"Disgust\", \"Fear\", \"Happy\", \"Sad\", \"Surprise\"]\n",
        "\n",
        "\n",
        "print(\"fresh_classifier_model confusion matrix:\")\n",
        "print_confusion_matrix(\n",
        "    create_confusion_matrix(fresh_classifier_model_predictions, emotion_val),\n",
        "    emotion_vocab,\n",
        ")\n",
        "print(\"\\ntext_pretrained_classifier_model confusion matrix:\")\n",
        "print_confusion_matrix(\n",
        "    create_confusion_matrix(text_pretrained_classifier_model_predictions, emotion_val),\n",
        "    emotion_vocab,\n",
        ")\n",
        "\n"
      ]
    },
    {
      "cell_type": "markdown",
      "metadata": {
        "id": "KkC9SxYRc9wG"
      },
      "source": [
        "## Compute Emotions on unseen test data\n",
        "\n",
        "Now that we've trained a model to classify the emotions of utterances in the `daily_dialog` training and validation datasets, we can use it to classify the emotions of utterances in an unseen test dataset.\n",
        "\n",
        "Finish the below code to load the test dataset, tokenize it, and run it through the model to predict the emotions of each utterance. Then save the predictions to \"daily_dialog_test_emotion_predictions.csv\" in a file of newline-separated integers."
      ]
    },
    {
      "cell_type": "markdown",
      "metadata": {
        "id": "H5uUVgoGc9wG"
      },
      "source": [
        "#### Choose a classifier to deploy"
      ]
    },
    {
      "cell_type": "code",
      "execution_count": 91,
      "metadata": {
        "id": "Lgfrm9KRc9wG"
      },
      "outputs": [],
      "source": [
        "better_classifier = (\n",
        "    # TODO: Choose the classifier you've decided is better\n",
        "    text_pretrained_classifier_model\n",
        ")"
      ]
    },
    {
      "cell_type": "markdown",
      "metadata": {
        "id": "mTmrsHArc9wG"
      },
      "source": [
        "#### Load the test dataset"
      ]
    },
    {
      "cell_type": "code",
      "execution_count": 92,
      "metadata": {
        "id": "1DPZSjKhc9wG",
        "colab": {
          "base_uri": "https://localhost:8080/"
        },
        "outputId": "ea323e9e-dcb6-4e13-d411-525fe246a703"
      },
      "outputs": [
        {
          "output_type": "stream",
          "name": "stdout",
          "text": [
            "Loaded 542109 chars from data/daily_dialog_test_text.txt\n"
          ]
        }
      ],
      "source": [
        "daily_dialog_test_text = load_dataset(\"data/daily_dialog_test_text.txt\")\n",
        "daily_dialog_test_tokens = tokenize_dataset(\n",
        "    daily_dialog_test_text, tokenizer\n",
        ")"
      ]
    },
    {
      "cell_type": "markdown",
      "metadata": {
        "id": "KujdoNI_c9wG"
      },
      "source": [
        "#### Run the classifier on the test dataset"
      ]
    },
    {
      "cell_type": "code",
      "execution_count": 93,
      "metadata": {
        "id": "vx4hBOexc9wH",
        "colab": {
          "base_uri": "https://localhost:8080/"
        },
        "outputId": "e2cf0179-62bd-4810-c7d6-9647374426c4"
      },
      "outputs": [
        {
          "output_type": "stream",
          "name": "stdout",
          "text": [
            "fresh_classifier_model 7740 predictions\n"
          ]
        }
      ],
      "source": [
        "predictions = predict_emotions(\n",
        "    better_classifier,\n",
        "    daily_dialog_test_tokens,\n",
        "    eou_token_id=tokenizer.token_to_id(\"__eou__\"),\n",
        "    bptt=parameters.BPTT,\n",
        ")\n",
        "print(\"fresh_classifier_model\", len(predictions), \"predictions\")\n",
        "assert len(predictions) == 7740, f\"The number of predictions should be 7740 but was {len(predictions)}.\""
      ]
    },
    {
      "cell_type": "markdown",
      "metadata": {
        "id": "C1UlArqYc9wH"
      },
      "source": [
        "#### Save the predictions"
      ]
    },
    {
      "cell_type": "code",
      "execution_count": 94,
      "metadata": {
        "id": "pRQfUx0Ic9wH"
      },
      "outputs": [],
      "source": [
        "with open(\"daily_dialog_test_emotion_predictions.csv\", \"w\", encoding=\"utf-8\") as outfile:\n",
        "    outfile.write(\"emotion\\n\")\n",
        "    for prediction in predictions:\n",
        "        outfile.write(f\"{prediction}\\n\")"
      ]
    },
    {
      "cell_type": "markdown",
      "metadata": {
        "id": "3WFWyvn2c9wH"
      },
      "source": [
        "**Remember to download the predictions file from Colab to preserve it!**\n",
        "\n",
        "Also remember to submit your code notebook to Gradescope!"
      ]
    }
  ],
  "metadata": {
    "accelerator": "GPU",
    "colab": {
      "gpuType": "T4",
      "provenance": []
    },
    "kernelspec": {
      "display_name": "Python 3",
      "name": "python3"
    },
    "language_info": {
      "codemirror_mode": {
        "name": "ipython",
        "version": 3
      },
      "file_extension": ".py",
      "mimetype": "text/x-python",
      "name": "python",
      "nbconvert_exporter": "python",
      "pygments_lexer": "ipython3",
      "version": "3.10.12"
    }
  },
  "nbformat": 4,
  "nbformat_minor": 0
}